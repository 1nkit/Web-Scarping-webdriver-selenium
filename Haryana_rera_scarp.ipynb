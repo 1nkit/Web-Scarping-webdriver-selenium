{
 "cells": [
  {
   "cell_type": "code",
   "execution_count": 1,
   "id": "a09ea520",
   "metadata": {},
   "outputs": [],
   "source": [
    "import selenium\n",
    "from selenium.webdriver.common.by import By\n",
    "from selenium.webdriver.common.keys import Keys\n",
    "import cv2\n",
    "from pytesseract import image_to_string\n",
    "from selenium.webdriver.support.ui import Select0\n",
    "import time\n",
    "import base64\n",
    "import re\n",
    "from selenium.webdriver.support.ui import WebDriverWait \n",
    "from selenium.webdriver.support import expected_conditions as EC\n",
    "import time"
   ]
  },
  {
   "cell_type": "code",
   "execution_count": 2,
   "id": "3b97a973",
   "metadata": {},
   "outputs": [],
   "source": [
    "from selenium import webdriver"
   ]
  },
  {
   "cell_type": "code",
   "execution_count": 163,
   "id": "67276221",
   "metadata": {},
   "outputs": [],
   "source": [
    "chrome_options=webdriver.ChromeOptions()"
   ]
  },
  {
   "cell_type": "code",
   "execution_count": 299,
   "id": "44c4ebe8-c897-422c-a22f-3634420376e4",
   "metadata": {},
   "outputs": [],
   "source": [
    "driver=webdriver.Chrome()\n",
    "driver.get(\"https://haryanarera.gov.in/admincontrol/registered_projects/2\")"
   ]
  },
  {
   "cell_type": "code",
   "execution_count": 16,
   "id": "7913219d-187a-4e3f-a1ca-35b7c7cf7e33",
   "metadata": {},
   "outputs": [],
   "source": [
    "#Retriving the columns name onr by one."
   ]
  },
  {
   "cell_type": "code",
   "execution_count": 17,
   "id": "9061922c-febc-4089-a29a-5a0d4824671d",
   "metadata": {},
   "outputs": [
    {
     "data": {
      "text/plain": [
       "'GGM/415/147/2020/31 DATED 09.10.2020'"
      ]
     },
     "execution_count": 17,
     "metadata": {},
     "output_type": "execute_result"
    }
   ],
   "source": [
    "path_of_test = driver.find_element_by_xpath('//*[@id=\"compliant_hearing\"]/tbody/tr[1]/td[2]')\n",
    "path_text = path_of_test.text\n",
    "path_text"
   ]
  },
  {
   "cell_type": "code",
   "execution_count": 18,
   "id": "330f19ff-343d-42a4-80ce-f382e3181cd1",
   "metadata": {},
   "outputs": [
    {
     "data": {
      "text/plain": [
       "'//*[@id=\"compliant_hearing\"]/tbody/tr[2]/td[2]'"
      ]
     },
     "execution_count": 18,
     "metadata": {},
     "output_type": "execute_result"
    }
   ],
   "source": [
    "'//*[@id=\\\"compliant_hearing\\\"]/tbody/tr[1]/td[2]'\n",
    "'//*[@id=\\\"compliant_hearing\\\"]/tbody/tr[2]/td[2]'"
   ]
  },
  {
   "cell_type": "code",
   "execution_count": 11,
   "id": "884db28a-5838-4f7b-be8f-248696026cbc",
   "metadata": {},
   "outputs": [],
   "source": [
    "# Retriving second page data sheets"
   ]
  },
  {
   "cell_type": "code",
   "execution_count": 165,
   "id": "f7821bfd-67fc-4e79-8841-cfadcc077e60",
   "metadata": {},
   "outputs": [],
   "source": [
    "serial_no = []\n",
    "Reg_name =[]\n",
    "Project_id = []\n",
    "Project_names = []\n",
    "Builder = []\n",
    "Project_location =[]\n",
    "project_district = []\n",
    "Registered_with = []\n",
    "\n",
    "title_window = driver.current_window_handle"
   ]
  },
  {
   "cell_type": "code",
   "execution_count": 166,
   "id": "2ec91a77-06ee-4feb-ba2f-b85e64b5af2a",
   "metadata": {},
   "outputs": [],
   "source": [
    "for i in range(1,100):\n",
    "            \n",
    "    x_path_reg = f'''//*[@id=\"compliant_hearing\"]/tbody/tr[{i}]/td[1]'''\n",
    "    path_of_reg = driver.find_element_by_xpath(x_path_reg)\n",
    "    serial_no.append(path_of_reg.text)\n",
    "    \n",
    "    x_path_reg = f'''//*[@id=\"compliant_hearing\"]/tbody/tr[{i}]/td[2]'''\n",
    "    path_of_reg = driver.find_element_by_xpath(x_path_reg)\n",
    "    Reg_name.append(path_of_reg.text)\n",
    "\n",
    "    x_path_reg = f'''//*[@id=\"compliant_hearing\"]/tbody/tr[{i}]/td[3]'''\n",
    "    path_of_reg = driver.find_element_by_xpath(x_path_reg)\n",
    "    Project_id.append(path_of_reg.text)\n",
    "\n",
    "    x_path_reg = f'''//*[@id=\"compliant_hearing\"]/tbody/tr[{i}]/td[4]'''\n",
    "    path_of_reg = driver.find_element_by_xpath(x_path_reg)\n",
    "    Project_names.append(path_of_reg.text)\n",
    "\n",
    "    x_path_reg = f'''//*[@id=\"compliant_hearing\"]/tbody/tr[{i}]/td[5]'''\n",
    "    path_of_reg = driver.find_element_by_xpath(x_path_reg)\n",
    "    Builder.append(path_of_reg.text)\n",
    "\n",
    "    x_path_reg = f'''//*[@id=\"compliant_hearing\"]/tbody/tr[{i}]/td[6]'''\n",
    "    path_of_reg = driver.find_element_by_xpath(x_path_reg)\n",
    "    Project_location.append(path_of_reg.text)\n",
    "\n",
    "    x_path_reg = f'''//*[@id=\"compliant_hearing\"]/tbody/tr[{i}]/td[7]'''\n",
    "    path_of_reg = driver.find_element_by_xpath(x_path_reg)\n",
    "    project_district.append(path_of_reg.text)\n",
    "\n",
    "    x_path_reg = f'''//*[@id=\"compliant_hearing\"]/tbody/tr[{i}]/td[8]'''\n",
    "    path_of_reg = driver.find_element_by_xpath(x_path_reg)\n",
    "    Registered_with.append(path_of_reg.text)\n",
    "\n",
    "  \n",
    "\n",
    "    \n",
    "\n",
    "\n",
    "   \n",
    "\n",
    "   \n",
    "   \n",
    "\n",
    "    "
   ]
  },
  {
   "cell_type": "code",
   "execution_count": 167,
   "id": "cc56df3f-cee9-48b5-b328-62e04f5d18fd",
   "metadata": {},
   "outputs": [],
   "source": [
    "import pandas as pd"
   ]
  },
  {
   "cell_type": "code",
   "execution_count": 168,
   "id": "d29c44c0-086f-4791-a4f7-e53a0368aedf",
   "metadata": {},
   "outputs": [
    {
     "data": {
      "text/plain": [
       "99"
      ]
     },
     "execution_count": 168,
     "metadata": {},
     "output_type": "execute_result"
    }
   ],
   "source": [
    "len(Registered_with)"
   ]
  },
  {
   "cell_type": "code",
   "execution_count": 169,
   "id": "e9e94a18-1e15-4f8e-9f82-057421b7a2e5",
   "metadata": {},
   "outputs": [
    {
     "data": {
      "text/plain": [
       "99"
      ]
     },
     "execution_count": 169,
     "metadata": {},
     "output_type": "execute_result"
    }
   ],
   "source": [
    "len(Reg_name)\n"
   ]
  },
  {
   "cell_type": "code",
   "execution_count": 170,
   "id": "9fb373c9-2fe8-4cdd-abce-efbad877656b",
   "metadata": {},
   "outputs": [],
   "source": [
    "data_p2 = pd.DataFrame({'serial_no':serial_no,'Reg_name':Reg_name,'Project_id':Project_id,\n",
    "                   'Project_name': Project_names,\n",
    "                   'Builder': Builder,\n",
    "                   'Project_location': Project_location,\n",
    "                   'Project_district' : project_district,\n",
    "                   'Registered_with' : Registered_with})\n"
   ]
  },
  {
   "cell_type": "code",
   "execution_count": 171,
   "id": "d527afbd-b93b-4926-8594-2459dbe2390b",
   "metadata": {},
   "outputs": [
    {
     "data": {
      "text/html": [
       "<div>\n",
       "<style scoped>\n",
       "    .dataframe tbody tr th:only-of-type {\n",
       "        vertical-align: middle;\n",
       "    }\n",
       "\n",
       "    .dataframe tbody tr th {\n",
       "        vertical-align: top;\n",
       "    }\n",
       "\n",
       "    .dataframe thead th {\n",
       "        text-align: right;\n",
       "    }\n",
       "</style>\n",
       "<table border=\"1\" class=\"dataframe\">\n",
       "  <thead>\n",
       "    <tr style=\"text-align: right;\">\n",
       "      <th></th>\n",
       "      <th>serial_no</th>\n",
       "      <th>Reg_name</th>\n",
       "      <th>Project_id</th>\n",
       "      <th>Project_name</th>\n",
       "      <th>Builder</th>\n",
       "      <th>Project_location</th>\n",
       "      <th>Project_district</th>\n",
       "      <th>Registered_with</th>\n",
       "    </tr>\n",
       "  </thead>\n",
       "  <tbody>\n",
       "    <tr>\n",
       "      <th>0</th>\n",
       "      <td>1</td>\n",
       "      <td>GGM/415/147/2020/31 DATED 09.10.2020</td>\n",
       "      <td>RERA-GRG-741-2020</td>\n",
       "      <td>102 EDEN ESTATE</td>\n",
       "      <td>COUNTRYWIDE PROMOTERS PRIVATE LIMITED</td>\n",
       "      <td>SECTOR 102 &amp; 102 A GURUGRAM</td>\n",
       "      <td>GURUGRAM</td>\n",
       "      <td>HRERA</td>\n",
       "    </tr>\n",
       "    <tr>\n",
       "      <th>1</th>\n",
       "      <td>2</td>\n",
       "      <td>GGM/486/218/2021/54 DATED 21.09.2021</td>\n",
       "      <td>RERA-GRG-874-2021</td>\n",
       "      <td>102 EDEN ESTATE II</td>\n",
       "      <td>COUNTRYWIDE PROMOTERS PRIVATE LIMITED</td>\n",
       "      <td>SECTOR 102 &amp; 102 A GURUGRAM</td>\n",
       "      <td>GURUGRAM</td>\n",
       "      <td>HRERA</td>\n",
       "    </tr>\n",
       "    <tr>\n",
       "      <th>2</th>\n",
       "      <td>3</td>\n",
       "      <td>15 OF 2018 DATED 19.01.2018\\nLapsed Project</td>\n",
       "      <td>RERA-GRG-494-2019</td>\n",
       "      <td>10.5437 ACRES GROUP HOUSING COLONY</td>\n",
       "      <td>CHD DEVELOPERS LTD.</td>\n",
       "      <td>SECTOR-71, GURUGRAM</td>\n",
       "      <td>GURUGRAM</td>\n",
       "      <td>INTERIM RERA</td>\n",
       "    </tr>\n",
       "    <tr>\n",
       "      <th>3</th>\n",
       "      <td>4</td>\n",
       "      <td>GGM/314/46/2019/08 DATED 21.02.2019</td>\n",
       "      <td>RERA-GRG-78-2018</td>\n",
       "      <td>106 GOLF AVENUE</td>\n",
       "      <td>EMPIRE REALTECH PVT. LTD.</td>\n",
       "      <td>SECTOR- 106, GURUGRAM</td>\n",
       "      <td>GURUGRAM</td>\n",
       "      <td>HRERA</td>\n",
       "    </tr>\n",
       "    <tr>\n",
       "      <th>4</th>\n",
       "      <td>5</td>\n",
       "      <td>232 OF 2017 DATED 19.09.2017</td>\n",
       "      <td>RERA-GRG-406-2019</td>\n",
       "      <td>10 ACRES (AFFORDABLE GROUP HOUSING PROJECT)</td>\n",
       "      <td>GLS INFRATECH PVT.LTD</td>\n",
       "      <td>SECTOR-4, KHAIKA, GURUGRAM</td>\n",
       "      <td>GURUGRAM</td>\n",
       "      <td>INTERIM RERA</td>\n",
       "    </tr>\n",
       "    <tr>\n",
       "      <th>...</th>\n",
       "      <td>...</td>\n",
       "      <td>...</td>\n",
       "      <td>...</td>\n",
       "      <td>...</td>\n",
       "      <td>...</td>\n",
       "      <td>...</td>\n",
       "      <td>...</td>\n",
       "      <td>...</td>\n",
       "    </tr>\n",
       "    <tr>\n",
       "      <th>94</th>\n",
       "      <td>95</td>\n",
       "      <td>GGM/591/323/2022/66 DATED 18.07.2022</td>\n",
       "      <td>RERA-GRG-1005-2022</td>\n",
       "      <td>BAANI CITY CENTER</td>\n",
       "      <td>AALIYAH REAL ESTATES PVT. LTD.</td>\n",
       "      <td>KHASRA NO 24-25,VILLAGE MAIDA\\nWAS,SECTOR-63, ...</td>\n",
       "      <td>GURUGRAM</td>\n",
       "      <td>HRERA</td>\n",
       "    </tr>\n",
       "    <tr>\n",
       "      <th>95</th>\n",
       "      <td>96</td>\n",
       "      <td>GGM/379/111/2019/73 DATED 23.12.2019</td>\n",
       "      <td>RERA-GRG-330-2019</td>\n",
       "      <td>BELLA VISTA - CENTRAL PARK RESORTS</td>\n",
       "      <td>SWETA ESTATES PVT. LTD.</td>\n",
       "      <td>SECTOR 48, SOHNA ROAD, NEAR S\\nUBHASH CHOWK, G...</td>\n",
       "      <td>GURUGRAM</td>\n",
       "      <td>HRERA</td>\n",
       "    </tr>\n",
       "    <tr>\n",
       "      <th>96</th>\n",
       "      <td>97</td>\n",
       "      <td>GGM/380/112/2019/74 DATED 09.12.2019</td>\n",
       "      <td>RERA-GRG-304-2019</td>\n",
       "      <td>BESTCEH 92 MARKET PLACE</td>\n",
       "      <td>BESTECH INDIA PVT LTD</td>\n",
       "      <td>SECTOR 92, VILLAGE WAZIRPUR,\\nGURUGRAM</td>\n",
       "      <td>GURUGRAM</td>\n",
       "      <td>HRERA</td>\n",
       "    </tr>\n",
       "    <tr>\n",
       "      <th>97</th>\n",
       "      <td>98</td>\n",
       "      <td>GGM/739/471/2023/83 DATED 24.07.2023</td>\n",
       "      <td>RERA-GRG-1355-2023</td>\n",
       "      <td>BESTECH CITY 1</td>\n",
       "      <td>BESTECH INDIA PRIVATE LIMITED</td>\n",
       "      <td>SECTOR 89A, VILLAGE HARSARU,\\nGURUGRAM</td>\n",
       "      <td>GURUGRAM</td>\n",
       "      <td>HRERA</td>\n",
       "    </tr>\n",
       "    <tr>\n",
       "      <th>98</th>\n",
       "      <td>99</td>\n",
       "      <td>GGM/730/462/2023/74 DATED 03.07.2023</td>\n",
       "      <td>RERA-GRG-1362-2023</td>\n",
       "      <td>BESTECH CITY 2</td>\n",
       "      <td>BESTECH INDIA PRIVATE LIMITED</td>\n",
       "      <td>SECTOR 89A, VILLAGE HARSARU,\\nGURUGRAM</td>\n",
       "      <td>GURUGRAM</td>\n",
       "      <td>HRERA</td>\n",
       "    </tr>\n",
       "  </tbody>\n",
       "</table>\n",
       "<p>99 rows × 8 columns</p>\n",
       "</div>"
      ],
      "text/plain": [
       "   serial_no                                     Reg_name          Project_id  \\\n",
       "0          1         GGM/415/147/2020/31 DATED 09.10.2020   RERA-GRG-741-2020   \n",
       "1          2         GGM/486/218/2021/54 DATED 21.09.2021   RERA-GRG-874-2021   \n",
       "2          3  15 OF 2018 DATED 19.01.2018\\nLapsed Project   RERA-GRG-494-2019   \n",
       "3          4          GGM/314/46/2019/08 DATED 21.02.2019    RERA-GRG-78-2018   \n",
       "4          5                 232 OF 2017 DATED 19.09.2017   RERA-GRG-406-2019   \n",
       "..       ...                                          ...                 ...   \n",
       "94        95         GGM/591/323/2022/66 DATED 18.07.2022  RERA-GRG-1005-2022   \n",
       "95        96         GGM/379/111/2019/73 DATED 23.12.2019   RERA-GRG-330-2019   \n",
       "96        97         GGM/380/112/2019/74 DATED 09.12.2019   RERA-GRG-304-2019   \n",
       "97        98         GGM/739/471/2023/83 DATED 24.07.2023  RERA-GRG-1355-2023   \n",
       "98        99         GGM/730/462/2023/74 DATED 03.07.2023  RERA-GRG-1362-2023   \n",
       "\n",
       "                                   Project_name  \\\n",
       "0                               102 EDEN ESTATE   \n",
       "1                            102 EDEN ESTATE II   \n",
       "2            10.5437 ACRES GROUP HOUSING COLONY   \n",
       "3                               106 GOLF AVENUE   \n",
       "4   10 ACRES (AFFORDABLE GROUP HOUSING PROJECT)   \n",
       "..                                          ...   \n",
       "94                            BAANI CITY CENTER   \n",
       "95           BELLA VISTA - CENTRAL PARK RESORTS   \n",
       "96                      BESTCEH 92 MARKET PLACE   \n",
       "97                               BESTECH CITY 1   \n",
       "98                               BESTECH CITY 2   \n",
       "\n",
       "                                  Builder  \\\n",
       "0   COUNTRYWIDE PROMOTERS PRIVATE LIMITED   \n",
       "1   COUNTRYWIDE PROMOTERS PRIVATE LIMITED   \n",
       "2                     CHD DEVELOPERS LTD.   \n",
       "3               EMPIRE REALTECH PVT. LTD.   \n",
       "4                   GLS INFRATECH PVT.LTD   \n",
       "..                                    ...   \n",
       "94         AALIYAH REAL ESTATES PVT. LTD.   \n",
       "95                SWETA ESTATES PVT. LTD.   \n",
       "96                  BESTECH INDIA PVT LTD   \n",
       "97          BESTECH INDIA PRIVATE LIMITED   \n",
       "98          BESTECH INDIA PRIVATE LIMITED   \n",
       "\n",
       "                                     Project_location Project_district  \\\n",
       "0                         SECTOR 102 & 102 A GURUGRAM         GURUGRAM   \n",
       "1                         SECTOR 102 & 102 A GURUGRAM         GURUGRAM   \n",
       "2                                 SECTOR-71, GURUGRAM         GURUGRAM   \n",
       "3                               SECTOR- 106, GURUGRAM         GURUGRAM   \n",
       "4                          SECTOR-4, KHAIKA, GURUGRAM         GURUGRAM   \n",
       "..                                                ...              ...   \n",
       "94  KHASRA NO 24-25,VILLAGE MAIDA\\nWAS,SECTOR-63, ...         GURUGRAM   \n",
       "95  SECTOR 48, SOHNA ROAD, NEAR S\\nUBHASH CHOWK, G...         GURUGRAM   \n",
       "96             SECTOR 92, VILLAGE WAZIRPUR,\\nGURUGRAM         GURUGRAM   \n",
       "97             SECTOR 89A, VILLAGE HARSARU,\\nGURUGRAM         GURUGRAM   \n",
       "98             SECTOR 89A, VILLAGE HARSARU,\\nGURUGRAM         GURUGRAM   \n",
       "\n",
       "   Registered_with  \n",
       "0            HRERA  \n",
       "1            HRERA  \n",
       "2     INTERIM RERA  \n",
       "3            HRERA  \n",
       "4     INTERIM RERA  \n",
       "..             ...  \n",
       "94           HRERA  \n",
       "95           HRERA  \n",
       "96           HRERA  \n",
       "97           HRERA  \n",
       "98           HRERA  \n",
       "\n",
       "[99 rows x 8 columns]"
      ]
     },
     "execution_count": 171,
     "metadata": {},
     "output_type": "execute_result"
    }
   ],
   "source": [
    "data_p2"
   ]
  },
  {
   "cell_type": "code",
   "execution_count": null,
   "id": "dc5a6c45-e7b9-46b2-bb7a-5d3e396e1b84",
   "metadata": {},
   "outputs": [],
   "source": [
    "#Final_work "
   ]
  },
  {
   "cell_type": "code",
   "execution_count": 350,
   "id": "b388e4ed-8dcf-4a59-920a-a68382bdf1a6",
   "metadata": {},
   "outputs": [],
   "source": [
    "driver=webdriver.Chrome()\n",
    "driver.get(\"https://haryanarera.gov.in/admincontrol/registered_projects/2\")\n",
    "pages = [\"//*[@id=\\\"compliant_hearing_paginate\\\"]/span/a[1]\",\n",
    "         \"//*[@id=\\\"compliant_hearing_paginate\\\"]/span/a[2]\",\n",
    "    \"//*[@id=\\\"compliant_hearing_paginate\\\"]/span/a[3]\",\n",
    "    \"//*[@id=\\\"compliant_hearing_paginate\\\"]/span/a[4]\",\n",
    "    \"//*[@id=\\\"compliant_hearing_paginate\\\"]/span/a[5]\",\n",
    "    \"//*[@id=\\\"compliant_hearing_paginate\\\"]/span/a[4]\",\n",
    "    \"//*[@id=\\\"compliant_hearing_paginate\\\"]/span/a[5]\",\n",
    "]"
   ]
  },
  {
   "cell_type": "code",
   "execution_count": 352,
   "id": "9baef529-9023-4689-966b-6521e63d06a7",
   "metadata": {},
   "outputs": [],
   "source": [
    "s_no=[]\n",
    "Reg_name=[]\n",
    "Project_id=[]\n",
    "Project_names=[]\n",
    "Builder=[]\n",
    "Project_location=[]\n",
    "project_district=[]\n",
    "Registered_with=[]\n",
    "lapsed_project=[]"
   ]
  },
  {
   "cell_type": "code",
   "execution_count": 353,
   "id": "77445108-9258-4b00-9236-e9217a5fe3b9",
   "metadata": {},
   "outputs": [],
   "source": [
    "for page in pages:\n",
    "    driver.find_element_by_xpath(page).click()\n",
    "    for i in range(1,101):\n",
    "        x_path_reg = f'''//*[@id=\"compliant_hearing\"]/tbody/tr[{i}]/td[2]'''\n",
    "        path_of_reg = driver.find_element_by_xpath(x_path_reg)\n",
    "        Text=path_of_reg.text\n",
    "        try:\n",
    "            blink_path = f\"\"\"//*[@id=\"compliant_hearing\"]/tbody/tr[{i}]/td[2]/a/span/text()\"\"\"\n",
    "            blink_web = driver.find_element_by_xpath(blink_path)\n",
    "            if blink_web:\n",
    "                blink_text = \"Lapsed Project\"\n",
    "                print(blink_text)\n",
    "                Text+=blink_text\n",
    "        except:\n",
    "            pass\n",
    "        if \"Lapsed Project\" in Text:\n",
    "            lapsed_project.append(\"yes\")\n",
    "            Text = Text.replace(\"lapsed_project\" , \" \")\n",
    "        else:\n",
    "            lapsed_project.append(\"no\")\n",
    "        Reg_name.append(Text)\n",
    "        \n",
    "        x_path_reg = f'''//*[@id=\"compliant_hearing\"]/tbody/tr[{i}]/td[3]'''\n",
    "        path_of_reg = driver.find_element_by_xpath(x_path_reg)\n",
    "        Project_id.append(path_of_reg.text)\n",
    "        \n",
    "        x_path_reg = f'''//*[@id=\"compliant_hearing\"]/tbody/tr[{i}]/td[4]'''\n",
    "        path_of_reg = driver.find_element_by_xpath(x_path_reg)\n",
    "        Project_names.append(path_of_reg.text)\n",
    "        \n",
    "        x_path_reg = f'''//*[@id=\"compliant_hearing\"]/tbody/tr[{i}]/td[5]'''\n",
    "        path_of_reg = driver.find_element_by_xpath(x_path_reg)\n",
    "        Builder.append(path_of_reg.text)\n",
    "        \n",
    "        x_path_reg = f'''//*[@id=\"compliant_hearing\"]/tbody/tr[{i}]/td[6]'''\n",
    "        path_of_reg = driver.find_element_by_xpath(x_path_reg)\n",
    "        Project_location.append(path_of_reg.text)\n",
    "        \n",
    "        x_path_reg = f'''//*[@id=\"compliant_hearing\"]/tbody/tr[{i}]/td[7]'''\n",
    "        path_of_reg = driver.find_element_by_xpath(x_path_reg)\n",
    "        project_district.append(path_of_reg.text)\n",
    "        \n",
    "        x_path_reg = f'''//*[@id=\"compliant_hearing\"]/tbody/tr[{i}]/td[8]'''\n",
    "        path_of_reg = driver.find_element_by_xpath(x_path_reg)\n",
    "        Registered_with.append(path_of_reg.text)\n",
    "\n",
    "        \n",
    "        \n",
    "\n",
    "   "
   ]
  },
  {
   "cell_type": "code",
   "execution_count": 354,
   "id": "87274df5-fea9-4a09-b7f3-6193dc34a2a0",
   "metadata": {},
   "outputs": [
    {
     "data": {
      "text/plain": [
       "700"
      ]
     },
     "execution_count": 354,
     "metadata": {},
     "output_type": "execute_result"
    }
   ],
   "source": [
    "len(lapsed_project)"
   ]
  },
  {
   "cell_type": "code",
   "execution_count": 355,
   "id": "e93ade6e-784a-45ea-acb9-bdc7490412d4",
   "metadata": {},
   "outputs": [
    {
     "data": {
      "text/plain": [
       "700"
      ]
     },
     "execution_count": 355,
     "metadata": {},
     "output_type": "execute_result"
    }
   ],
   "source": [
    "len(Reg_name)"
   ]
  },
  {
   "cell_type": "code",
   "execution_count": 356,
   "id": "796ac568-2ae7-431b-b3a5-e24208f688ad",
   "metadata": {},
   "outputs": [
    {
     "data": {
      "text/plain": [
       "700"
      ]
     },
     "execution_count": 356,
     "metadata": {},
     "output_type": "execute_result"
    }
   ],
   "source": [
    "len(Project_names)"
   ]
  },
  {
   "cell_type": "code",
   "execution_count": 357,
   "id": "bdee6c24-b1b2-4f27-879d-be48b4665098",
   "metadata": {},
   "outputs": [
    {
     "data": {
      "text/plain": [
       "700"
      ]
     },
     "execution_count": 357,
     "metadata": {},
     "output_type": "execute_result"
    }
   ],
   "source": [
    "len(project_district)"
   ]
  },
  {
   "cell_type": "code",
   "execution_count": 358,
   "id": "083cf20b-fd7b-4b28-85ac-b9db453f92a3",
   "metadata": {},
   "outputs": [
    {
     "data": {
      "text/plain": [
       "700"
      ]
     },
     "execution_count": 358,
     "metadata": {},
     "output_type": "execute_result"
    }
   ],
   "source": [
    "len(Builder)"
   ]
  },
  {
   "cell_type": "code",
   "execution_count": 349,
   "id": "db22554c-249b-4d4d-a637-8e2a20bf1c75",
   "metadata": {},
   "outputs": [],
   "source": [
    "driver.quit()"
   ]
  },
  {
   "cell_type": "code",
   "execution_count": 359,
   "id": "30584c8a-f5bf-4bc7-9b3f-47a130330fe8",
   "metadata": {},
   "outputs": [],
   "source": [
    "#Creating DataFrame\n",
    "data = pd.DataFrame({'Reg_name':Reg_name,'Project_id':Project_id,\n",
    "                   'Project_name':Project_names,\n",
    "                   'Builder': Builder,\n",
    "                   'Project_location':Project_location,\n",
    "                   'Project_district' :project_district,\n",
    "                   'Registered_with' :Registered_with, 'lapsed_project':lapsed_project})"
   ]
  },
  {
   "cell_type": "code",
   "execution_count": 360,
   "id": "87b7035b-b645-4953-ad01-e2ca346e23f1",
   "metadata": {},
   "outputs": [
    {
     "data": {
      "text/html": [
       "<div>\n",
       "<style scoped>\n",
       "    .dataframe tbody tr th:only-of-type {\n",
       "        vertical-align: middle;\n",
       "    }\n",
       "\n",
       "    .dataframe tbody tr th {\n",
       "        vertical-align: top;\n",
       "    }\n",
       "\n",
       "    .dataframe thead th {\n",
       "        text-align: right;\n",
       "    }\n",
       "</style>\n",
       "<table border=\"1\" class=\"dataframe\">\n",
       "  <thead>\n",
       "    <tr style=\"text-align: right;\">\n",
       "      <th></th>\n",
       "      <th>Reg_name</th>\n",
       "      <th>Project_id</th>\n",
       "      <th>Project_name</th>\n",
       "      <th>Builder</th>\n",
       "      <th>Project_location</th>\n",
       "      <th>Project_district</th>\n",
       "      <th>Registered_with</th>\n",
       "      <th>lapsed_project</th>\n",
       "    </tr>\n",
       "  </thead>\n",
       "  <tbody>\n",
       "    <tr>\n",
       "      <th>0</th>\n",
       "      <td>GGM/415/147/2020/31 DATED 09.10.2020</td>\n",
       "      <td>RERA-GRG-741-2020</td>\n",
       "      <td>102 EDEN ESTATE</td>\n",
       "      <td>COUNTRYWIDE PROMOTERS PRIVATE LIMITED</td>\n",
       "      <td>SECTOR 102 &amp; 102 A GURUGRAM</td>\n",
       "      <td>GURUGRAM</td>\n",
       "      <td>HRERA</td>\n",
       "      <td>no</td>\n",
       "    </tr>\n",
       "    <tr>\n",
       "      <th>1</th>\n",
       "      <td>GGM/486/218/2021/54 DATED 21.09.2021</td>\n",
       "      <td>RERA-GRG-874-2021</td>\n",
       "      <td>102 EDEN ESTATE II</td>\n",
       "      <td>COUNTRYWIDE PROMOTERS PRIVATE LIMITED</td>\n",
       "      <td>SECTOR 102 &amp; 102 A GURUGRAM</td>\n",
       "      <td>GURUGRAM</td>\n",
       "      <td>HRERA</td>\n",
       "      <td>no</td>\n",
       "    </tr>\n",
       "    <tr>\n",
       "      <th>2</th>\n",
       "      <td>15 OF 2018 DATED 19.01.2018\\nLapsed Project</td>\n",
       "      <td>RERA-GRG-494-2019</td>\n",
       "      <td>10.5437 ACRES GROUP HOUSING COLONY</td>\n",
       "      <td>CHD DEVELOPERS LTD.</td>\n",
       "      <td>SECTOR-71, GURUGRAM</td>\n",
       "      <td>GURUGRAM</td>\n",
       "      <td>INTERIM RERA</td>\n",
       "      <td>yes</td>\n",
       "    </tr>\n",
       "    <tr>\n",
       "      <th>3</th>\n",
       "      <td>GGM/314/46/2019/08 DATED 21.02.2019</td>\n",
       "      <td>RERA-GRG-78-2018</td>\n",
       "      <td>106 GOLF AVENUE</td>\n",
       "      <td>EMPIRE REALTECH PVT. LTD.</td>\n",
       "      <td>SECTOR- 106, GURUGRAM</td>\n",
       "      <td>GURUGRAM</td>\n",
       "      <td>HRERA</td>\n",
       "      <td>no</td>\n",
       "    </tr>\n",
       "    <tr>\n",
       "      <th>4</th>\n",
       "      <td>232 OF 2017 DATED 19.09.2017</td>\n",
       "      <td>RERA-GRG-406-2019</td>\n",
       "      <td>10 ACRES (AFFORDABLE GROUP HOUSING PROJECT)</td>\n",
       "      <td>GLS INFRATECH PVT.LTD</td>\n",
       "      <td>SECTOR-4, KHAIKA, GURUGRAM</td>\n",
       "      <td>GURUGRAM</td>\n",
       "      <td>INTERIM RERA</td>\n",
       "      <td>no</td>\n",
       "    </tr>\n",
       "    <tr>\n",
       "      <th>...</th>\n",
       "      <td>...</td>\n",
       "      <td>...</td>\n",
       "      <td>...</td>\n",
       "      <td>...</td>\n",
       "      <td>...</td>\n",
       "      <td>...</td>\n",
       "      <td>...</td>\n",
       "      <td>...</td>\n",
       "    </tr>\n",
       "    <tr>\n",
       "      <th>695</th>\n",
       "      <td>GGM/358/90/2019/52 DATED 20.09.2019</td>\n",
       "      <td>RERA-GRG-201-2019</td>\n",
       "      <td>ULTIMA PHASE-II</td>\n",
       "      <td>DLF LIMITED</td>\n",
       "      <td>VILLAGE LAKHNOLA, SECTOR 81,\\nGURUGRAM, HARYANA</td>\n",
       "      <td>GURUGRAM</td>\n",
       "      <td>HRERA</td>\n",
       "      <td>no</td>\n",
       "    </tr>\n",
       "    <tr>\n",
       "      <th>696</th>\n",
       "      <td>GGM/378/110/2019/72 DATED 23.12.2019</td>\n",
       "      <td>RERA-GRG-340-2019</td>\n",
       "      <td>ULTIMUS</td>\n",
       "      <td>B D INFRADEVELOPERS PRIVATE LIMITED</td>\n",
       "      <td>VILLAGE BADHA, SECTOR 90, GUR\\nUGRAM</td>\n",
       "      <td>GURUGRAM</td>\n",
       "      <td>HRERA</td>\n",
       "      <td>no</td>\n",
       "    </tr>\n",
       "    <tr>\n",
       "      <th>697</th>\n",
       "      <td>GGM/530/262/2022/05 DATED 31.01.2022</td>\n",
       "      <td>RERA-GRG-989-2021</td>\n",
       "      <td>ULTIMUS</td>\n",
       "      <td>BD INFRADEVELOPERS LLP</td>\n",
       "      <td>SECTOR 90 GURUGRAM</td>\n",
       "      <td>GURUGRAM</td>\n",
       "      <td>HRERA</td>\n",
       "      <td>no</td>\n",
       "    </tr>\n",
       "    <tr>\n",
       "      <th>698</th>\n",
       "      <td>GGM/529/261/2022/04 DATED 31.01.2022</td>\n",
       "      <td>RERA-GRG-979-2021</td>\n",
       "      <td>ULTIMUS 2.0</td>\n",
       "      <td>MRG WORLD LLP</td>\n",
       "      <td>SECTOR 90 GURUGRAM</td>\n",
       "      <td>GURUGRAM</td>\n",
       "      <td>HRERA</td>\n",
       "      <td>no</td>\n",
       "    </tr>\n",
       "    <tr>\n",
       "      <th>699</th>\n",
       "      <td>350 OF 2017 DATED 17.11.2017\\nLapsed Project</td>\n",
       "      <td>RERA-GRG-680-2020</td>\n",
       "      <td>URBAN 67-A</td>\n",
       "      <td>PYRAMID INFRATECH PVT. LTD.</td>\n",
       "      <td>SECTOR-67-A, GURUGRAM, HARYAN\\nA</td>\n",
       "      <td>GURUGRAM</td>\n",
       "      <td>INTERIM RERA</td>\n",
       "      <td>yes</td>\n",
       "    </tr>\n",
       "  </tbody>\n",
       "</table>\n",
       "<p>700 rows × 8 columns</p>\n",
       "</div>"
      ],
      "text/plain": [
       "                                         Reg_name         Project_id  \\\n",
       "0            GGM/415/147/2020/31 DATED 09.10.2020  RERA-GRG-741-2020   \n",
       "1            GGM/486/218/2021/54 DATED 21.09.2021  RERA-GRG-874-2021   \n",
       "2     15 OF 2018 DATED 19.01.2018\\nLapsed Project  RERA-GRG-494-2019   \n",
       "3             GGM/314/46/2019/08 DATED 21.02.2019   RERA-GRG-78-2018   \n",
       "4                    232 OF 2017 DATED 19.09.2017  RERA-GRG-406-2019   \n",
       "..                                            ...                ...   \n",
       "695           GGM/358/90/2019/52 DATED 20.09.2019  RERA-GRG-201-2019   \n",
       "696          GGM/378/110/2019/72 DATED 23.12.2019  RERA-GRG-340-2019   \n",
       "697          GGM/530/262/2022/05 DATED 31.01.2022  RERA-GRG-989-2021   \n",
       "698          GGM/529/261/2022/04 DATED 31.01.2022  RERA-GRG-979-2021   \n",
       "699  350 OF 2017 DATED 17.11.2017\\nLapsed Project  RERA-GRG-680-2020   \n",
       "\n",
       "                                    Project_name  \\\n",
       "0                                102 EDEN ESTATE   \n",
       "1                             102 EDEN ESTATE II   \n",
       "2             10.5437 ACRES GROUP HOUSING COLONY   \n",
       "3                                106 GOLF AVENUE   \n",
       "4    10 ACRES (AFFORDABLE GROUP HOUSING PROJECT)   \n",
       "..                                           ...   \n",
       "695                              ULTIMA PHASE-II   \n",
       "696                                      ULTIMUS   \n",
       "697                                      ULTIMUS   \n",
       "698                                  ULTIMUS 2.0   \n",
       "699                                   URBAN 67-A   \n",
       "\n",
       "                                   Builder  \\\n",
       "0    COUNTRYWIDE PROMOTERS PRIVATE LIMITED   \n",
       "1    COUNTRYWIDE PROMOTERS PRIVATE LIMITED   \n",
       "2                      CHD DEVELOPERS LTD.   \n",
       "3                EMPIRE REALTECH PVT. LTD.   \n",
       "4                    GLS INFRATECH PVT.LTD   \n",
       "..                                     ...   \n",
       "695                            DLF LIMITED   \n",
       "696    B D INFRADEVELOPERS PRIVATE LIMITED   \n",
       "697                 BD INFRADEVELOPERS LLP   \n",
       "698                          MRG WORLD LLP   \n",
       "699            PYRAMID INFRATECH PVT. LTD.   \n",
       "\n",
       "                                    Project_location Project_district  \\\n",
       "0                        SECTOR 102 & 102 A GURUGRAM         GURUGRAM   \n",
       "1                        SECTOR 102 & 102 A GURUGRAM         GURUGRAM   \n",
       "2                                SECTOR-71, GURUGRAM         GURUGRAM   \n",
       "3                              SECTOR- 106, GURUGRAM         GURUGRAM   \n",
       "4                         SECTOR-4, KHAIKA, GURUGRAM         GURUGRAM   \n",
       "..                                               ...              ...   \n",
       "695  VILLAGE LAKHNOLA, SECTOR 81,\\nGURUGRAM, HARYANA         GURUGRAM   \n",
       "696             VILLAGE BADHA, SECTOR 90, GUR\\nUGRAM         GURUGRAM   \n",
       "697                               SECTOR 90 GURUGRAM         GURUGRAM   \n",
       "698                               SECTOR 90 GURUGRAM         GURUGRAM   \n",
       "699                 SECTOR-67-A, GURUGRAM, HARYAN\\nA         GURUGRAM   \n",
       "\n",
       "    Registered_with lapsed_project  \n",
       "0             HRERA             no  \n",
       "1             HRERA             no  \n",
       "2      INTERIM RERA            yes  \n",
       "3             HRERA             no  \n",
       "4      INTERIM RERA             no  \n",
       "..              ...            ...  \n",
       "695           HRERA             no  \n",
       "696           HRERA             no  \n",
       "697           HRERA             no  \n",
       "698           HRERA             no  \n",
       "699    INTERIM RERA            yes  \n",
       "\n",
       "[700 rows x 8 columns]"
      ]
     },
     "execution_count": 360,
     "metadata": {},
     "output_type": "execute_result"
    }
   ],
   "source": [
    "data"
   ]
  },
  {
   "cell_type": "code",
   "execution_count": null,
   "id": "fd7d2d7a-f75a-43f0-9e45-c9c2c3044992",
   "metadata": {},
   "outputs": [],
   "source": [
    "#final output get and share with the team ."
   ]
  }
 ],
 "metadata": {
  "kernelspec": {
   "display_name": "Python 3 (ipykernel)",
   "language": "python",
   "name": "python3"
  },
  "language_info": {
   "codemirror_mode": {
    "name": "ipython",
    "version": 3
   },
   "file_extension": ".py",
   "mimetype": "text/x-python",
   "name": "python",
   "nbconvert_exporter": "python",
   "pygments_lexer": "ipython3",
   "version": "3.11.3"
  }
 },
 "nbformat": 4,
 "nbformat_minor": 5
}
