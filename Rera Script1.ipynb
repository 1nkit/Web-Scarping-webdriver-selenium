{
 "cells": [
  {
   "cell_type": "code",
   "execution_count": 1,
   "id": "a09ea520",
   "metadata": {},
   "outputs": [],
   "source": [
    "import selenium\n",
    "from selenium.webdriver.common.by import By\n",
    "from selenium.webdriver.common.keys import Keys\n",
    "import cv2\n",
    "from pytesseract import image_to_string\n",
    "from selenium.webdriver.support.ui import Select\n",
    "import time\n",
    "import base64\n",
    "import re\n",
    "from selenium.webdriver.support.ui import WebDriverWait \n",
    "from selenium.webdriver.support import expected_conditions as EC\n",
    "import time"
   ]
  },
  {
   "cell_type": "code",
   "execution_count": 13,
   "id": "3b97a973",
   "metadata": {},
   "outputs": [
    {
     "name": "stderr",
     "output_type": "stream",
     "text": [
      "/var/folders/84/21vql02d7ps6z946hq6vg1kc0000gn/T/ipykernel_10495/3208582132.py:11: DeprecationWarning: executable_path has been deprecated, please pass in a Service object\n",
      "  driver = webdriver.Chrome(executable_path=DRIVER_PATH)\n"
     ]
    }
   ],
   "source": [
    "from selenium import webdriver\n",
    "\n",
    "chrome_options = webdriver.ChromeOptions()\n",
    "\n",
    "# Disable images by setting the \"profile.managed_default_content_settings.images\" preference to 2 (2 means \"do not show any images\")\n",
    "# chrome_options.add_experimental_option(\"prefs\", {\"profile.managed_default_content_settings.images\": 2})\n",
    "\n",
    "\n",
    "DRIVER_PATH = '/opt/homebrew/bin/chromedriver'\n",
    "# driver = webdriver.Chrome(executable_path=DRIVER_PATH, options=chrome_options)\n",
    "driver = webdriver.Chrome(executable_path=DRIVER_PATH)\n",
    "driver.get('https://www.up-rera.in/agents')\n"
   ]
  },
  {
   "cell_type": "code",
   "execution_count": 282,
   "id": "67276221",
   "metadata": {},
   "outputs": [
    {
     "name": "stdout",
     "output_type": "stream",
     "text": [
      "23Z79Y\n",
      "\n",
      "23Z79Y\n"
     ]
    }
   ],
   "source": []
  },
  {
   "cell_type": "code",
   "execution_count": 8,
   "id": "46033b4b",
   "metadata": {},
   "outputs": [],
   "source": [
    "import pandas as pd"
   ]
  },
  {
   "cell_type": "code",
   "execution_count": 9,
   "id": "5ca39715",
   "metadata": {},
   "outputs": [],
   "source": [
    "df = pd.DataFrame()"
   ]
  },
  {
   "cell_type": "code",
   "execution_count": 3,
   "id": "1b9fd247",
   "metadata": {},
   "outputs": [
    {
     "name": "stdout",
     "output_type": "stream",
     "text": [
      "['A4689F7897380469553B44D0125A2A8E']\n"
     ]
    }
   ],
   "source": [
    "print(driver.window_handles)"
   ]
  },
  {
   "cell_type": "code",
   "execution_count": 14,
   "id": "d1b2b6a0",
   "metadata": {},
   "outputs": [],
   "source": [
    "title_window = driver.current_window_handle"
   ]
  },
  {
   "cell_type": "code",
   "execution_count": 24,
   "id": "19ef4747",
   "metadata": {},
   "outputs": [],
   "source": [
    "driver.switch_to.window(title_window)"
   ]
  },
  {
   "cell_type": "code",
   "execution_count": 22,
   "id": "b89ae34c",
   "metadata": {},
   "outputs": [],
   "source": [
    "for handle in driver.window_handles:\n",
    "        if handle != title_window:\n",
    "            driver.switch_to.window(handle)\n",
    "            driver.close()"
   ]
  },
  {
   "cell_type": "code",
   "execution_count": 25,
   "id": "b5f554a5",
   "metadata": {},
   "outputs": [
    {
     "name": "stdout",
     "output_type": "stream",
     "text": [
      "27\n",
      "28\n",
      "29\n",
      "30\n"
     ]
    }
   ],
   "source": [
    "s_no = []\n",
    "reg_number =[]\n",
    "name = []\n",
    "address = []\n",
    "district = []\n",
    "type_agent = []\n",
    "details = []\n",
    "\n",
    "\n",
    "\n",
    "\n",
    "for i in range(27,31):\n",
    "    path_s_no = path_s_no = '//*[@id=\"ctl00_ContentPlaceHolder1_grdagents\"]/tbody/tr[' +str(i)+ ']/td[1]'\n",
    "\n",
    "    s_no_web = driver.find_element(By.XPATH, path_s_no)\n",
    "    s_no.append(s_no_web.text)\n",
    "    \n",
    "    reg_no = '//*[@id=\"ctl00_ContentPlaceHolder1_grdagents\"]/tbody/tr[' +str(i)+ ']/td[2]'\n",
    "    reg_no_web = driver.find_element(By.XPATH, reg_no)\n",
    "    reg_number.append(reg_no_web.text)\n",
    "    \n",
    "    path_project = '//*[@id=\"ctl00_ContentPlaceHolder1_grdagents\"]/tbody/tr[' +str(i)+ ']/td[3]'\n",
    "    path_project_web = driver.find_element(By.XPATH, path_project)\n",
    "    name.append(path_project_web.text)\n",
    "    \n",
    "    path_promoter = '//*[@id=\"ctl00_ContentPlaceHolder1_grdagents\"]/tbody/tr[' +str(i)+ ']/td[4]'\n",
    "    path_promoter_web = driver.find_element(By.XPATH, path_promoter)\n",
    "    address.append(path_promoter_web.text)\n",
    "    \n",
    "    district.append(\"Gautam Buddha Nagar\")\n",
    "    \n",
    "    project_path = '//*[@id=\"ctl00_ContentPlaceHolder1_grdagents\"]/tbody/tr[' +str(i)+ ']/td[5]'\n",
    "    project_path_web = driver.find_element(By.XPATH, project_path)\n",
    "    type_agent.append(project_path_web.text)\n",
    "    view_more = '//*[@id=\"ctl00_ContentPlaceHolder1_grdagents\"]/tbody/tr[' +str(i)+ ']/td[6]'\n",
    "    view_more_web = driver.find_element(By.XPATH, view_more)\n",
    "    \n",
    "    for handle in driver.window_handles:\n",
    "        if handle != title_window:\n",
    "            driver.switch_to.window(handle)\n",
    "            driver.close()\n",
    "    driver.switch_to.window(title_window)    \n",
    "    view_details = driver.find_element(By.XPATH , view_more)\n",
    "    view_details.click()\n",
    "    \n",
    "    \n",
    "    WebDriverWait(driver, 100).until(EC.number_of_windows_to_be(2))\n",
    "\n",
    "# Switch to the new window\n",
    "    all_windows = driver.window_handles\n",
    "    new_window_handle = all_windows[1]\n",
    "    driver.switch_to.window(new_window_handle)\n",
    "\n",
    "    WebDriverWait(driver, 100).until(EC.presence_of_element_located((By.XPATH, '//*[@id=\"main\"]/section[2]/div/div/div/div/div[2]/div/div')))\n",
    "    view_complete_details = driver.find_element(By.XPATH , '//*[@id=\"main\"]/section[2]/div/div/div/div/div[2]/div/div')\n",
    "    details.append(view_complete_details.text)\n",
    "    for handle in driver.window_handles:\n",
    "        if handle != title_window:\n",
    "            driver.switch_to.window(handle)\n",
    "            driver.close()\n",
    "    driver.switch_to.window(title_window)\n",
    "    print(i)\n",
    "    \n",
    "#     new_window = WebDriverWait(driver, 60).until(\n",
    "#     EC.new_window_is_opened(driver.window_handles)\n",
    "#     )\n",
    "\n",
    "#     # Switch to the new window\n",
    "#     all_windows = driver.window_handles\n",
    "#     driver.switch_to.window(all_windows[1])\n",
    "\n",
    "# # Wait for the details to load (you may need to adjust the condition)\n",
    "#     view_complete_details = WebDriverWait(driver, 60).until(\n",
    "#     EC.presence_of_element_located((By.XPATH, '//*[@id=\"main\"]/section[2]/div/div/div/div/div[2]/div/div'))\n",
    "# )"
   ]
  },
  {
   "cell_type": "code",
   "execution_count": null,
   "id": "4873a84b",
   "metadata": {},
   "outputs": [],
   "source": []
  },
  {
   "cell_type": "code",
   "execution_count": 26,
   "id": "fce10549",
   "metadata": {},
   "outputs": [],
   "source": [
    "list_of_tuples = list(zip(s_no,name, reg_number,address,district,type_agent, details))\n",
    "df = pd.DataFrame(list_of_tuples, columns = ['S.No','Name', 'Registration','Address','District','Type','Details'])\n",
    "  "
   ]
  },
  {
   "cell_type": "code",
   "execution_count": 28,
   "id": "04979a96",
   "metadata": {},
   "outputs": [],
   "source": [
    "df.to_csv('Bareily_30.csv')"
   ]
  },
  {
   "cell_type": "code",
   "execution_count": null,
   "id": "1d04ed65",
   "metadata": {},
   "outputs": [],
   "source": []
  },
  {
   "cell_type": "code",
   "execution_count": 27,
   "id": "e36de9a8",
   "metadata": {},
   "outputs": [
    {
     "data": {
      "text/html": [
       "<div>\n",
       "<style scoped>\n",
       "    .dataframe tbody tr th:only-of-type {\n",
       "        vertical-align: middle;\n",
       "    }\n",
       "\n",
       "    .dataframe tbody tr th {\n",
       "        vertical-align: top;\n",
       "    }\n",
       "\n",
       "    .dataframe thead th {\n",
       "        text-align: right;\n",
       "    }\n",
       "</style>\n",
       "<table border=\"1\" class=\"dataframe\">\n",
       "  <thead>\n",
       "    <tr style=\"text-align: right;\">\n",
       "      <th></th>\n",
       "      <th>S.No</th>\n",
       "      <th>Name</th>\n",
       "      <th>Registration</th>\n",
       "      <th>Address</th>\n",
       "      <th>District</th>\n",
       "      <th>Type</th>\n",
       "      <th>Details</th>\n",
       "    </tr>\n",
       "  </thead>\n",
       "  <tbody>\n",
       "    <tr>\n",
       "      <th>0</th>\n",
       "      <td>27</td>\n",
       "      <td>Gaurav Bhatnagar</td>\n",
       "      <td>UPRERAAGT17681</td>\n",
       "      <td>317-D Tulip Grand, Pilibhit Bypass Road, Bareilly</td>\n",
       "      <td>Gautam Buddha Nagar</td>\n",
       "      <td>Individual</td>\n",
       "      <td>Name :\\nGaurav Bhatnagar\\nDistrict :\\nBareilly...</td>\n",
       "    </tr>\n",
       "    <tr>\n",
       "      <th>1</th>\n",
       "      <td>28</td>\n",
       "      <td>GAURAV KUMARAGARWAL</td>\n",
       "      <td>UPRERAAGT18595</td>\n",
       "      <td>SHRI SIDDH GANESH JYOTISH KENDRA, SAHUKARA, BA...</td>\n",
       "      <td>Gautam Buddha Nagar</td>\n",
       "      <td>Individual</td>\n",
       "      <td>Name :\\nGAURAV KUMARAGARWAL\\nDistrict :\\nBarei...</td>\n",
       "    </tr>\n",
       "    <tr>\n",
       "      <th>2</th>\n",
       "      <td>29</td>\n",
       "      <td>GIRISH KUMAR GARG</td>\n",
       "      <td>UPRERAAGT15335</td>\n",
       "      <td>35-A, RAM JANKI MANDIR, PRABHAT NAGAR, IZZATNA...</td>\n",
       "      <td>Gautam Buddha Nagar</td>\n",
       "      <td>Individual</td>\n",
       "      <td>Name :\\nGAURAV KUMARAGARWAL\\nDistrict :\\nBarei...</td>\n",
       "    </tr>\n",
       "    <tr>\n",
       "      <th>3</th>\n",
       "      <td>30</td>\n",
       "      <td>HARISH KUMAR</td>\n",
       "      <td>UPRERAAGT14567</td>\n",
       "      <td>15-17, Residency garden stadium road, bareilly</td>\n",
       "      <td>Gautam Buddha Nagar</td>\n",
       "      <td>Individual</td>\n",
       "      <td>Name :\\nHARISH KUMAR\\nDistrict :\\nBareilly\\nAp...</td>\n",
       "    </tr>\n",
       "  </tbody>\n",
       "</table>\n",
       "</div>"
      ],
      "text/plain": [
       "      S.No                 Name    Registration  \\\n",
       "0       27     Gaurav Bhatnagar  UPRERAAGT17681   \n",
       "1       28  GAURAV KUMARAGARWAL  UPRERAAGT18595   \n",
       "2       29    GIRISH KUMAR GARG  UPRERAAGT15335   \n",
       "3       30         HARISH KUMAR  UPRERAAGT14567   \n",
       "\n",
       "                                             Address             District  \\\n",
       "0  317-D Tulip Grand, Pilibhit Bypass Road, Bareilly  Gautam Buddha Nagar   \n",
       "1  SHRI SIDDH GANESH JYOTISH KENDRA, SAHUKARA, BA...  Gautam Buddha Nagar   \n",
       "2  35-A, RAM JANKI MANDIR, PRABHAT NAGAR, IZZATNA...  Gautam Buddha Nagar   \n",
       "3     15-17, Residency garden stadium road, bareilly  Gautam Buddha Nagar   \n",
       "\n",
       "         Type                                            Details  \n",
       "0  Individual  Name :\\nGaurav Bhatnagar\\nDistrict :\\nBareilly...  \n",
       "1  Individual  Name :\\nGAURAV KUMARAGARWAL\\nDistrict :\\nBarei...  \n",
       "2  Individual  Name :\\nGAURAV KUMARAGARWAL\\nDistrict :\\nBarei...  \n",
       "3  Individual  Name :\\nHARISH KUMAR\\nDistrict :\\nBareilly\\nAp...  "
      ]
     },
     "execution_count": 27,
     "metadata": {},
     "output_type": "execute_result"
    }
   ],
   "source": [
    "df"
   ]
  },
  {
   "cell_type": "code",
   "execution_count": 155,
   "id": "742d8395",
   "metadata": {},
   "outputs": [],
   "source": [
    "df.to_csv('Project_Details.csv')"
   ]
  },
  {
   "cell_type": "markdown",
   "id": "8d281b3c",
   "metadata": {},
   "source": [
    "# making list of properties"
   ]
  },
  {
   "cell_type": "code",
   "execution_count": 205,
   "id": "88725268",
   "metadata": {},
   "outputs": [
    {
     "name": "stdout",
     "output_type": "stream",
     "text": [
      "ctl00_ContentPlaceHolder1_GridView1_ctl02_LnkView\n",
      "ctl00_ContentPlaceHolder1_GridView1_ctl03_LnkView\n"
     ]
    }
   ],
   "source": [
    "id_view_details = []\n",
    "for i in range (2,875):\n",
    "    if i<10:\n",
    "        i = \"0\"+str(i)\n",
    "    id_string = \"ctl00_ContentPlaceHolder1_GridView1_ctl\"+str(i)+\"_LnkView\"\n",
    "   \n",
    "    id_view_details.append(id_string)\n",
    "view_details_list=[]\n",
    "for id_ele in id_view_details:\n",
    "    print(id_ele)\n",
    "    \n",
    "    view_details = driver.find_element(By.ID , id_ele)\n",
    "    view_details.click()\n",
    "    \n",
    "    \n",
    "# id_view_details_string = \"ctl00_ContentPlaceHolder1_GridView1_ctl03_LnkView\"\n",
    "# ctl00_ContentPlaceHolder1_GridView1_ctl874_LnkView\n",
    "# view_details = driver.find_element(By.ID , \"ctl00_ContentPlaceHolder1_GridView1_ctl02_LnkView\")\n",
    "# view_details.click()\n",
    "# ctl00_ContentPlaceHolder1_GridView1_ctl03_LnkView\n",
    "#click on the open page\n",
    "\n",
    "\n",
    "\n",
    "# ctl00_ContentPlaceHolder1_GridView1_ctl02_LnkView\n"
   ]
  },
  {
   "cell_type": "code",
   "execution_count": 166,
   "id": "fc7ca21a",
   "metadata": {},
   "outputs": [
    {
     "name": "stdout",
     "output_type": "stream",
     "text": [
      "UP RERA : Uttar Pradesh Real Estate Regulatory Authority\n"
     ]
    }
   ],
   "source": [
    "print(driver.title)"
   ]
  },
  {
   "cell_type": "code",
   "execution_count": 167,
   "id": "1d2ad533",
   "metadata": {},
   "outputs": [
    {
     "name": "stdout",
     "output_type": "stream",
     "text": [
      "CDwindow-335CA541F2A14601047D1E8D82E75545\n"
     ]
    }
   ],
   "source": [
    "print(driver.current_window_handle)"
   ]
  },
  {
   "cell_type": "code",
   "execution_count": 168,
   "id": "a04b89d0",
   "metadata": {},
   "outputs": [
    {
     "name": "stdout",
     "output_type": "stream",
     "text": [
      "['CDwindow-335CA541F2A14601047D1E8D82E75545', 'CDwindow-900106B1CDF6C296514C68C26D94EE87', 'CDwindow-C3A7F805479EB3016E571C4E0DDDFA4C']\n"
     ]
    }
   ],
   "source": [
    "print(driver.window_handles)"
   ]
  },
  {
   "cell_type": "code",
   "execution_count": 136,
   "id": "0cc525df",
   "metadata": {},
   "outputs": [
    {
     "name": "stdout",
     "output_type": "stream",
     "text": [
      "['CDwindow-2484EC674130B10B3AC1CB261587F9E6', 'CDwindow-34EDD4CFCAE2A19C44047FFA9413DB55', 'CDwindow-1F701BC2328BE0BFE5E48F7C37B0D7CA']\n"
     ]
    }
   ],
   "source": [
    "print(driver.window_handles)"
   ]
  },
  {
   "cell_type": "code",
   "execution_count": null,
   "id": "422b675c",
   "metadata": {},
   "outputs": [],
   "source": [
    "# import time\n",
    "\n",
    "\n",
    "# driver.find_element_by_link_text(\"Help\").click()\n",
    "\n",
    "# #prints parent window title\n",
    "# print(\"Parent window title: \" + driver.title)\n",
    "\n",
    "# #get current window handle\n",
    "# p = driver.current_window_handle\n",
    "\n",
    "# #get first child window\n",
    "# chwd = driver.window_handles\n",
    "\n",
    "# for w in chwd:\n",
    "# #switch focus to child window\n",
    "#     if(w!=p):\n",
    "#     driver.switch_to.window(w)\n",
    "# break\n",
    "# time.sleep(0.9)\n",
    "# print(\"Child window title: \" + driver.title)\n",
    "# driver.quit()"
   ]
  },
  {
   "cell_type": "code",
   "execution_count": 110,
   "id": "0b9fc75f",
   "metadata": {},
   "outputs": [
    {
     "name": "stdout",
     "output_type": "stream",
     "text": [
      "['CDwindow-1300A3C0CAFEBA27F8A28430D9A9B501']\n"
     ]
    }
   ],
   "source": [
    "print(driver.window_handles)"
   ]
  },
  {
   "cell_type": "code",
   "execution_count": 187,
   "id": "ab653def",
   "metadata": {},
   "outputs": [
    {
     "name": "stdout",
     "output_type": "stream",
     "text": [
      "CDwindow-5C8743504B7562A390C53022A905A48F\n"
     ]
    }
   ],
   "source": [
    "print(driver.current_window_handle)"
   ]
  },
  {
   "cell_type": "code",
   "execution_count": 193,
   "id": "1ab03ed5",
   "metadata": {},
   "outputs": [
    {
     "name": "stdout",
     "output_type": "stream",
     "text": [
      "CDwindow-ECDC2DA5459061194CA35E8DA7DF9EEF\n"
     ]
    }
   ],
   "source": [
    "print(title_window)"
   ]
  },
  {
   "cell_type": "code",
   "execution_count": 197,
   "id": "37737e5e",
   "metadata": {},
   "outputs": [
    {
     "name": "stdout",
     "output_type": "stream",
     "text": [
      "['CDwindow-AACC41142FFB289666A089ABB609085D', 'CDwindow-321569DBD3EBB19921DE17FF26046D9F']\n"
     ]
    }
   ],
   "source": [
    "print(visited_window)"
   ]
  },
  {
   "cell_type": "code",
   "execution_count": 201,
   "id": "af7c1431",
   "metadata": {},
   "outputs": [
    {
     "name": "stdout",
     "output_type": "stream",
     "text": [
      "['CDwindow-C9034EDAE4352E221C79EAEBB8713369', 'CDwindow-5C8743504B7562A390C53022A905A48F']\n"
     ]
    }
   ],
   "source": [
    "print(visited_windows)"
   ]
  },
  {
   "cell_type": "code",
   "execution_count": 202,
   "id": "4fdb322c",
   "metadata": {},
   "outputs": [
    {
     "name": "stdout",
     "output_type": "stream",
     "text": [
      "['CDwindow-ECDC2DA5459061194CA35E8DA7DF9EEF', 'CDwindow-AACC41142FFB289666A089ABB609085D', 'CDwindow-321569DBD3EBB19921DE17FF26046D9F']\n"
     ]
    }
   ],
   "source": [
    "print(all_windows)"
   ]
  },
  {
   "cell_type": "code",
   "execution_count": 21,
   "id": "f491c7f6",
   "metadata": {},
   "outputs": [],
   "source": [
    "driver.switch_to.window(title_window)"
   ]
  },
  {
   "cell_type": "markdown",
   "id": "e1eb13cd",
   "metadata": {},
   "source": [
    "# Work on new tab"
   ]
  },
  {
   "cell_type": "code",
   "execution_count": 359,
   "id": "3e318082",
   "metadata": {},
   "outputs": [
    {
     "name": "stdout",
     "output_type": "stream",
     "text": [
      "CDwindow-16E7B67DF58B47DDCE9BE2B789436268\n",
      "ctl00_ContentPlaceHolder1_GridView1_ctl736_LnkView\n",
      "ctl00_ContentPlaceHolder1_GridView1_ctl737_LnkView\n",
      "ctl00_ContentPlaceHolder1_GridView1_ctl738_LnkView\n",
      "ctl00_ContentPlaceHolder1_GridView1_ctl739_LnkView\n",
      "ctl00_ContentPlaceHolder1_GridView1_ctl740_LnkView\n",
      "ctl00_ContentPlaceHolder1_GridView1_ctl741_LnkView\n",
      "ctl00_ContentPlaceHolder1_GridView1_ctl742_LnkView\n",
      "ctl00_ContentPlaceHolder1_GridView1_ctl743_LnkView\n",
      "ctl00_ContentPlaceHolder1_GridView1_ctl744_LnkView\n",
      "ctl00_ContentPlaceHolder1_GridView1_ctl745_LnkView\n",
      "ctl00_ContentPlaceHolder1_GridView1_ctl746_LnkView\n",
      "ctl00_ContentPlaceHolder1_GridView1_ctl747_LnkView\n",
      "ctl00_ContentPlaceHolder1_GridView1_ctl748_LnkView\n",
      "ctl00_ContentPlaceHolder1_GridView1_ctl749_LnkView\n"
     ]
    }
   ],
   "source": [
    "s_no = []\n",
    "reg_number = []\n",
    "project_name = []\n",
    "promoter_name = []\n",
    "district = []\n",
    "project_type = []\n",
    "\n",
    "project_completion_date = []\n",
    "\n",
    "\n",
    "\n",
    "\n",
    "title_window = driver.current_window_handle\n",
    "print(title_window)\n",
    "\n",
    "\n",
    "id_view_details = []\n",
    "for i in range (736,750):\n",
    "    if i<10:\n",
    "        i = \"0\"+str(i)\n",
    "    id_string = \"ctl00_ContentPlaceHolder1_GridView1_ctl\"+str(i)+\"_LnkView\"\n",
    "   \n",
    "    id_view_details.append(id_string)\n",
    "view_details_list=[]\n",
    "for id_ele in id_view_details:\n",
    "    print(id_ele)\n",
    "    \n",
    "    for handle in driver.window_handles:\n",
    "        if handle != title_window:\n",
    "            driver.switch_to.window(handle)\n",
    "            driver.close()\n",
    "    driver.switch_to.window(title_window)    \n",
    "    view_details = driver.find_element(By.ID , id_ele)\n",
    "    view_details.click()\n",
    "    time.sleep(5)\n",
    "    all_windows = driver.window_handles\n",
    "    \n",
    "#     print(\"All windows\", all_windows)\n",
    "#     for w in all_windows:\n",
    "#         if (w!=title_window):\n",
    "    driver.switch_to.window(all_windows[1])\n",
    "    view_complete_project_details = driver.find_element(By.ID , \"ctl00_ContentPlaceHolder1_pnlViewPrjDetail\")\n",
    "#         check_name = driver.find_element(By.XPATH ,  \"/html/body/form/div[3]/section[2]/div/div/div/div/div[2]/div[1]/div/div/div[2]/div/div/div/div[1]/div[2]/label\")\n",
    "    view_complete_project_details.click()\n",
    "    driver.close()\n",
    "    time.sleep(5)\n",
    "\n",
    "\n",
    "    nested_child_window = driver.window_handles\n",
    "#     print(\"Nested child window\",nested_child_window)\n",
    "\n",
    "#     for nw in nested_child_window:\n",
    "#         if nw !=title_window:\n",
    "\n",
    "\n",
    "    driver.switch_to.window(nested_child_window[1])\n",
    "\n",
    "\n",
    "\n",
    "    project_comp_date = driver.find_element(By.XPATH,\"/html/body/form/div[3]/section[2]/div/div/div/div/div[2]/div/div/div/table/tbody/tr[1]/td/div/table/tbody/tr[4]/td/div/div/div/fieldset/table/tbody/tr[11]/td[4]/input\");\n",
    "    project_completion_date.append(project_comp_date.get_attribute(\"value\"))\n",
    "\n",
    "    project_name_web = driver.find_element(By.ID,\"ctl00_ContentPlaceHolder1_lblProjectNameHeading\")\n",
    "    project_name.append(project_name_web.text)\n",
    "\n",
    "    reg_name_web = driver.find_element(By.ID, \"ctl00_ContentPlaceHolder1_lblProjectNameWithID\")\n",
    "    reg_text = reg_name_web.text.replace(\"Project Id: (\",\"\")\n",
    "    reg_text = reg_text.replace(\")\",\"\")\n",
    "    reg_number.append(reg_text)\n",
    "\n",
    "    district.append(\"Gautam Buddha Nagar\")\n",
    "\n",
    "    project_type_web = driver.find_element(By.ID , \"ctl00_ContentPlaceHolder1_lblProjectType\")\n",
    "    project_type.append(project_type_web.text)\n",
    "\n",
    "    promoter_name_web = driver.find_element(By.ID , \"ctl00_ContentPlaceHolder1_lblPromoterNameHeading\")\n",
    "    promoter_name_text = promoter_name_web.text.split(\":\")\n",
    "    promoter_name.append(promoter_name_text[1])\n",
    "    driver.close()\n",
    "\n",
    "\n",
    "\n",
    "\n",
    "\n",
    "\n",
    "\n",
    "\n",
    "# visited_window = []\n",
    "# for w in all_windows:\n",
    "#     if (w!=title_window and w not in visited_window):\n",
    "#         visited_window.append(w)\n",
    "#         driver.switch_to.window(w)\n",
    "#         time.sleep(5)\n",
    "#         print(\"Window opened\", w)\n",
    "#         view_complete_project_details = driver.find_element(By.ID , \"ctl00_ContentPlaceHolder1_pnlViewPrjDetail\")\n",
    "# #         check_name = driver.find_element(By.XPATH ,  \"/html/body/form/div[3]/section[2]/div/div/div/div/div[2]/div[1]/div/div/div[2]/div/div/div/div[1]/div[2]/label\")\n",
    "#         view_complete_project_details.click()\n",
    "#         driver.close()\n",
    "#         time.sleep(15)\n",
    "#         nested_child_window = driver.window_handles\n",
    "\n",
    "\n",
    "\n",
    "\n",
    "\n",
    "\n",
    "\n",
    "# nested_child_window = driver.window_handles\n",
    "# print(\"Nested child window\" ,nested_child_window)\n",
    "# visited_windows = []\n",
    "# for nw in nested_child_window:\n",
    "#     if nw !=title_window and nw not in visited_window and nw not in visited_windows:\n",
    "#         visited_windows.append(nw)\n",
    "#         print(visited_windows)\n",
    "        \n",
    "#         driver.switch_to.window(nw)\n",
    "        \n",
    "        \n",
    "        \n",
    "#         project_comp_date = driver.find_element(By.ID,\"ctl00_ContentPlaceHolder1_lblEndDate\")\n",
    "#         project_completion_date.append(project_comp_date.text)\n",
    "\n",
    "#         project_name_web = driver.find_element(By.ID,\"ctl00_ContentPlaceHolder1_lblProjectNameHeading\")\n",
    "#         project_name.append(project_name_web.text)\n",
    "\n",
    "#         reg_name_web = driver.find_element(By.ID, \"ctl00_ContentPlaceHolder1_lblProjectNameWithID\")\n",
    "#         reg_number.append(reg_name_web.text)\n",
    "\n",
    "#         district.append(\"Gautam Buddha Nagar\")\n",
    "\n",
    "#         project_type_web = driver.find_element(By.ID , \"ctl00_ContentPlaceHolder1_lblProjectType\")\n",
    "#         project_type.append(project_type_web.text)\n",
    "\n",
    "#         promoter_name_web = driver.find_element(By.ID , \"ctl00_ContentPlaceHolder1_lblPromoterNameHeading\")\n",
    "#         promoter_name_text = promoter_name_web.text.split(\":\")\n",
    "#         promoter_name.append(promoter_name_text[1])\n",
    "\n",
    "        \n",
    "        "
   ]
  },
  {
   "cell_type": "code",
   "execution_count": 249,
   "id": "73788895",
   "metadata": {},
   "outputs": [
    {
     "data": {
      "text/plain": [
       "[' ATS Realty Private Limited', ' ATS Township Private Limited']"
      ]
     },
     "execution_count": 249,
     "metadata": {},
     "output_type": "execute_result"
    }
   ],
   "source": [
    "promoter_name"
   ]
  },
  {
   "cell_type": "code",
   "execution_count": 278,
   "id": "ae753b75",
   "metadata": {},
   "outputs": [
    {
     "data": {
      "text/plain": [
       "['02-03-2021',\n",
       " '30-03-2025',\n",
       " '30-12-2018',\n",
       " '13-10-2025',\n",
       " '13-10-2025',\n",
       " '26-03-2023',\n",
       " '31-12-2018',\n",
       " '31-03-2019',\n",
       " '13-05-2023',\n",
       " '31-10-2019']"
      ]
     },
     "execution_count": 278,
     "metadata": {},
     "output_type": "execute_result"
    }
   ],
   "source": [
    "project_completion_date"
   ]
  },
  {
   "cell_type": "code",
   "execution_count": 360,
   "id": "91f6c6f1",
   "metadata": {},
   "outputs": [],
   "source": [
    "tuple_project = list(zip(project_completion_date,project_name,reg_number,district,project_type,promoter_name))\n",
    "df = pd.DataFrame(tuple_project, columns = ['Project Completion Date','Project Name','Registration Number','District','Project Type', 'Promoter Name'])"
   ]
  },
  {
   "cell_type": "code",
   "execution_count": 361,
   "id": "31129278",
   "metadata": {},
   "outputs": [],
   "source": [
    "df.to_csv(\"Project_List_With_Completion_Date_736_749.csv\")"
   ]
  },
  {
   "cell_type": "code",
   "execution_count": 357,
   "id": "d746ae67",
   "metadata": {},
   "outputs": [
    {
     "data": {
      "text/html": [
       "<div>\n",
       "<style scoped>\n",
       "    .dataframe tbody tr th:only-of-type {\n",
       "        vertical-align: middle;\n",
       "    }\n",
       "\n",
       "    .dataframe tbody tr th {\n",
       "        vertical-align: top;\n",
       "    }\n",
       "\n",
       "    .dataframe thead th {\n",
       "        text-align: right;\n",
       "    }\n",
       "</style>\n",
       "<table border=\"1\" class=\"dataframe\">\n",
       "  <thead>\n",
       "    <tr style=\"text-align: right;\">\n",
       "      <th></th>\n",
       "      <th>Project Completion Date</th>\n",
       "      <th>Project Name</th>\n",
       "      <th>Registration Number</th>\n",
       "      <th>District</th>\n",
       "      <th>Project Type</th>\n",
       "      <th>Promoter Name</th>\n",
       "    </tr>\n",
       "  </thead>\n",
       "  <tbody>\n",
       "    <tr>\n",
       "      <th>0</th>\n",
       "      <td>30-06-2025</td>\n",
       "      <td>Project Name: WTC Noida- Quad</td>\n",
       "      <td>UPRERAPRJ3357</td>\n",
       "      <td>Gautam Buddha Nagar</td>\n",
       "      <td>Ongoing</td>\n",
       "      <td>WTC Noida Development Company Pvt. Ltd.</td>\n",
       "    </tr>\n",
       "    <tr>\n",
       "      <th>1</th>\n",
       "      <td>30-06-2025</td>\n",
       "      <td>Project Name: WTC Noida- Riverside Residences</td>\n",
       "      <td>UPRERAPRJ3158</td>\n",
       "      <td>Gautam Buddha Nagar</td>\n",
       "      <td>Ongoing</td>\n",
       "      <td>Spire Techpark Pvt. Ltd.</td>\n",
       "    </tr>\n",
       "    <tr>\n",
       "      <th>2</th>\n",
       "      <td>31-12-2017</td>\n",
       "      <td>Project Name: XT01 SECTOR-3</td>\n",
       "      <td>UPRERAPRJ10104</td>\n",
       "      <td>Gautam Buddha Nagar</td>\n",
       "      <td>Ongoing</td>\n",
       "      <td>GREATER NOIDA INDUSTRIAL DEVELOPMENT AUTHORITY</td>\n",
       "    </tr>\n",
       "    <tr>\n",
       "      <th>3</th>\n",
       "      <td>22-09-2027</td>\n",
       "      <td>Project Name: Yamuna City Mall</td>\n",
       "      <td>UPRERAPRJ892259</td>\n",
       "      <td>Gautam Buddha Nagar</td>\n",
       "      <td>New</td>\n",
       "      <td>Wall Rock Developers LLP</td>\n",
       "    </tr>\n",
       "  </tbody>\n",
       "</table>\n",
       "</div>"
      ],
      "text/plain": [
       "  Project Completion Date                                   Project Name  \\\n",
       "0              30-06-2025                  Project Name: WTC Noida- Quad   \n",
       "1              30-06-2025  Project Name: WTC Noida- Riverside Residences   \n",
       "2              31-12-2017                    Project Name: XT01 SECTOR-3   \n",
       "3              22-09-2027                 Project Name: Yamuna City Mall   \n",
       "\n",
       "  Registration Number             District Project Type  \\\n",
       "0       UPRERAPRJ3357  Gautam Buddha Nagar      Ongoing   \n",
       "1       UPRERAPRJ3158  Gautam Buddha Nagar      Ongoing   \n",
       "2      UPRERAPRJ10104  Gautam Buddha Nagar      Ongoing   \n",
       "3     UPRERAPRJ892259  Gautam Buddha Nagar          New   \n",
       "\n",
       "                                     Promoter Name  \n",
       "0          WTC Noida Development Company Pvt. Ltd.  \n",
       "1                         Spire Techpark Pvt. Ltd.  \n",
       "2   GREATER NOIDA INDUSTRIAL DEVELOPMENT AUTHORITY  \n",
       "3                         Wall Rock Developers LLP  "
      ]
     },
     "execution_count": 357,
     "metadata": {},
     "output_type": "execute_result"
    }
   ],
   "source": [
    "df"
   ]
  },
  {
   "cell_type": "code",
   "execution_count": 41,
   "id": "ee8cdeb4",
   "metadata": {},
   "outputs": [
    {
     "ename": "NoSuchElementException",
     "evalue": "Message: no such element: Unable to locate element: {\"method\":\"xpath\",\"selector\":\"/html/body/form/div[3]/section[2]/div/div/div/div/div[2]/div[1]/div/div/div[2]/div/div/div/div[1]/div[2]/label\"}\n  (Session info: chrome=108.0.5359.124)\nStacktrace:\n0   chromedriver                        0x0000000100513b7c chromedriver + 4209532\n1   chromedriver                        0x000000010049f418 chromedriver + 3732504\n2   chromedriver                        0x0000000100152368 chromedriver + 271208\n3   chromedriver                        0x000000010018dfc8 chromedriver + 516040\n4   chromedriver                        0x00000001001c5804 chromedriver + 743428\n5   chromedriver                        0x000000010018059c chromedriver + 460188\n6   chromedriver                        0x0000000100181644 chromedriver + 464452\n7   chromedriver                        0x00000001004e530c chromedriver + 4018956\n8   chromedriver                        0x00000001004e8fd8 chromedriver + 4034520\n9   chromedriver                        0x00000001004ef11c chromedriver + 4059420\n10  chromedriver                        0x00000001004e9bac chromedriver + 4037548\n11  chromedriver                        0x00000001004c3bb0 chromedriver + 3881904\n12  chromedriver                        0x0000000100506120 chromedriver + 4153632\n13  chromedriver                        0x0000000100506274 chromedriver + 4153972\n14  chromedriver                        0x000000010051a82c chromedriver + 4237356\n15  libsystem_pthread.dylib             0x000000018869c26c _pthread_start + 148\n16  libsystem_pthread.dylib             0x000000018869708c thread_start + 8\n",
     "output_type": "error",
     "traceback": [
      "\u001b[0;31m---------------------------------------------------------------------------\u001b[0m",
      "\u001b[0;31mNoSuchElementException\u001b[0m                    Traceback (most recent call last)",
      "Cell \u001b[0;32mIn[41], line 1\u001b[0m\n\u001b[0;32m----> 1\u001b[0m check_name \u001b[38;5;241m=\u001b[39m \u001b[43mdriver\u001b[49m\u001b[38;5;241;43m.\u001b[39;49m\u001b[43mfind_element\u001b[49m\u001b[43m(\u001b[49m\u001b[43mBy\u001b[49m\u001b[38;5;241;43m.\u001b[39;49m\u001b[43mXPATH\u001b[49m\u001b[43m \u001b[49m\u001b[43m,\u001b[49m\u001b[43m  \u001b[49m\u001b[38;5;124;43m\"\u001b[39;49m\u001b[38;5;124;43m/html/body/form/div[3]/section[2]/div/div/div/div/div[2]/div[1]/div/div/div[2]/div/div/div/div[1]/div[2]/label\u001b[39;49m\u001b[38;5;124;43m\"\u001b[39;49m\u001b[43m)\u001b[49m\n\u001b[1;32m      2\u001b[0m check_name\u001b[38;5;241m.\u001b[39mclick()\n",
      "File \u001b[0;32m~/Library/Python/3.9/lib/python/site-packages/selenium/webdriver/remote/webdriver.py:861\u001b[0m, in \u001b[0;36mWebDriver.find_element\u001b[0;34m(self, by, value)\u001b[0m\n\u001b[1;32m    858\u001b[0m     by \u001b[38;5;241m=\u001b[39m By\u001b[38;5;241m.\u001b[39mCSS_SELECTOR\n\u001b[1;32m    859\u001b[0m     value \u001b[38;5;241m=\u001b[39m \u001b[38;5;124m'\u001b[39m\u001b[38;5;124m[name=\u001b[39m\u001b[38;5;124m\"\u001b[39m\u001b[38;5;132;01m%s\u001b[39;00m\u001b[38;5;124m\"\u001b[39m\u001b[38;5;124m]\u001b[39m\u001b[38;5;124m'\u001b[39m \u001b[38;5;241m%\u001b[39m value\n\u001b[0;32m--> 861\u001b[0m \u001b[38;5;28;01mreturn\u001b[39;00m \u001b[38;5;28;43mself\u001b[39;49m\u001b[38;5;241;43m.\u001b[39;49m\u001b[43mexecute\u001b[49m\u001b[43m(\u001b[49m\u001b[43mCommand\u001b[49m\u001b[38;5;241;43m.\u001b[39;49m\u001b[43mFIND_ELEMENT\u001b[49m\u001b[43m,\u001b[49m\u001b[43m \u001b[49m\u001b[43m{\u001b[49m\u001b[38;5;124;43m\"\u001b[39;49m\u001b[38;5;124;43musing\u001b[39;49m\u001b[38;5;124;43m\"\u001b[39;49m\u001b[43m:\u001b[49m\u001b[43m \u001b[49m\u001b[43mby\u001b[49m\u001b[43m,\u001b[49m\u001b[43m \u001b[49m\u001b[38;5;124;43m\"\u001b[39;49m\u001b[38;5;124;43mvalue\u001b[39;49m\u001b[38;5;124;43m\"\u001b[39;49m\u001b[43m:\u001b[49m\u001b[43m \u001b[49m\u001b[43mvalue\u001b[49m\u001b[43m}\u001b[49m\u001b[43m)\u001b[49m[\u001b[38;5;124m\"\u001b[39m\u001b[38;5;124mvalue\u001b[39m\u001b[38;5;124m\"\u001b[39m]\n",
      "File \u001b[0;32m~/Library/Python/3.9/lib/python/site-packages/selenium/webdriver/remote/webdriver.py:444\u001b[0m, in \u001b[0;36mWebDriver.execute\u001b[0;34m(self, driver_command, params)\u001b[0m\n\u001b[1;32m    442\u001b[0m response \u001b[38;5;241m=\u001b[39m \u001b[38;5;28mself\u001b[39m\u001b[38;5;241m.\u001b[39mcommand_executor\u001b[38;5;241m.\u001b[39mexecute(driver_command, params)\n\u001b[1;32m    443\u001b[0m \u001b[38;5;28;01mif\u001b[39;00m response:\n\u001b[0;32m--> 444\u001b[0m     \u001b[38;5;28;43mself\u001b[39;49m\u001b[38;5;241;43m.\u001b[39;49m\u001b[43merror_handler\u001b[49m\u001b[38;5;241;43m.\u001b[39;49m\u001b[43mcheck_response\u001b[49m\u001b[43m(\u001b[49m\u001b[43mresponse\u001b[49m\u001b[43m)\u001b[49m\n\u001b[1;32m    445\u001b[0m     response[\u001b[38;5;124m\"\u001b[39m\u001b[38;5;124mvalue\u001b[39m\u001b[38;5;124m\"\u001b[39m] \u001b[38;5;241m=\u001b[39m \u001b[38;5;28mself\u001b[39m\u001b[38;5;241m.\u001b[39m_unwrap_value(response\u001b[38;5;241m.\u001b[39mget(\u001b[38;5;124m\"\u001b[39m\u001b[38;5;124mvalue\u001b[39m\u001b[38;5;124m\"\u001b[39m, \u001b[38;5;28;01mNone\u001b[39;00m))\n\u001b[1;32m    446\u001b[0m     \u001b[38;5;28;01mreturn\u001b[39;00m response\n",
      "File \u001b[0;32m~/Library/Python/3.9/lib/python/site-packages/selenium/webdriver/remote/errorhandler.py:249\u001b[0m, in \u001b[0;36mErrorHandler.check_response\u001b[0;34m(self, response)\u001b[0m\n\u001b[1;32m    247\u001b[0m         alert_text \u001b[38;5;241m=\u001b[39m value[\u001b[38;5;124m\"\u001b[39m\u001b[38;5;124malert\u001b[39m\u001b[38;5;124m\"\u001b[39m]\u001b[38;5;241m.\u001b[39mget(\u001b[38;5;124m\"\u001b[39m\u001b[38;5;124mtext\u001b[39m\u001b[38;5;124m\"\u001b[39m)\n\u001b[1;32m    248\u001b[0m     \u001b[38;5;28;01mraise\u001b[39;00m exception_class(message, screen, stacktrace, alert_text)  \u001b[38;5;66;03m# type: ignore[call-arg]  # mypy is not smart enough here\u001b[39;00m\n\u001b[0;32m--> 249\u001b[0m \u001b[38;5;28;01mraise\u001b[39;00m exception_class(message, screen, stacktrace)\n",
      "\u001b[0;31mNoSuchElementException\u001b[0m: Message: no such element: Unable to locate element: {\"method\":\"xpath\",\"selector\":\"/html/body/form/div[3]/section[2]/div/div/div/div/div[2]/div[1]/div/div/div[2]/div/div/div/div[1]/div[2]/label\"}\n  (Session info: chrome=108.0.5359.124)\nStacktrace:\n0   chromedriver                        0x0000000100513b7c chromedriver + 4209532\n1   chromedriver                        0x000000010049f418 chromedriver + 3732504\n2   chromedriver                        0x0000000100152368 chromedriver + 271208\n3   chromedriver                        0x000000010018dfc8 chromedriver + 516040\n4   chromedriver                        0x00000001001c5804 chromedriver + 743428\n5   chromedriver                        0x000000010018059c chromedriver + 460188\n6   chromedriver                        0x0000000100181644 chromedriver + 464452\n7   chromedriver                        0x00000001004e530c chromedriver + 4018956\n8   chromedriver                        0x00000001004e8fd8 chromedriver + 4034520\n9   chromedriver                        0x00000001004ef11c chromedriver + 4059420\n10  chromedriver                        0x00000001004e9bac chromedriver + 4037548\n11  chromedriver                        0x00000001004c3bb0 chromedriver + 3881904\n12  chromedriver                        0x0000000100506120 chromedriver + 4153632\n13  chromedriver                        0x0000000100506274 chromedriver + 4153972\n14  chromedriver                        0x000000010051a82c chromedriver + 4237356\n15  libsystem_pthread.dylib             0x000000018869c26c _pthread_start + 148\n16  libsystem_pthread.dylib             0x000000018869708c thread_start + 8\n"
     ]
    }
   ],
   "source": [
    "check_name = driver.find_element(By.XPATH ,  \"/html/body/form/div[3]/section[2]/div/div/div/div/div[2]/div[1]/div/div/div[2]/div/div/div/div[1]/div[2]/label\")\n",
    "check_name.click()\n"
   ]
  },
  {
   "cell_type": "code",
   "execution_count": 40,
   "id": "393f0abf",
   "metadata": {},
   "outputs": [
    {
     "ename": "NoSuchElementException",
     "evalue": "Message: no such element: Unable to locate element: {\"method\":\"xpath\",\"selector\":\"/html/body/form/div[3]/section[2]/div/div/div/div/div[2]/div[6]/div[3]/div\"}\n  (Session info: chrome=108.0.5359.124)\nStacktrace:\n0   chromedriver                        0x0000000100513b7c chromedriver + 4209532\n1   chromedriver                        0x000000010049f418 chromedriver + 3732504\n2   chromedriver                        0x0000000100152368 chromedriver + 271208\n3   chromedriver                        0x000000010018dfc8 chromedriver + 516040\n4   chromedriver                        0x00000001001c5804 chromedriver + 743428\n5   chromedriver                        0x000000010018059c chromedriver + 460188\n6   chromedriver                        0x0000000100181644 chromedriver + 464452\n7   chromedriver                        0x00000001004e530c chromedriver + 4018956\n8   chromedriver                        0x00000001004e8fd8 chromedriver + 4034520\n9   chromedriver                        0x00000001004ef11c chromedriver + 4059420\n10  chromedriver                        0x00000001004e9bac chromedriver + 4037548\n11  chromedriver                        0x00000001004c3bb0 chromedriver + 3881904\n12  chromedriver                        0x0000000100506120 chromedriver + 4153632\n13  chromedriver                        0x0000000100506274 chromedriver + 4153972\n14  chromedriver                        0x000000010051a82c chromedriver + 4237356\n15  libsystem_pthread.dylib             0x000000018869c26c _pthread_start + 148\n16  libsystem_pthread.dylib             0x000000018869708c thread_start + 8\n",
     "output_type": "error",
     "traceback": [
      "\u001b[0;31m---------------------------------------------------------------------------\u001b[0m",
      "\u001b[0;31mNoSuchElementException\u001b[0m                    Traceback (most recent call last)",
      "Cell \u001b[0;32mIn[40], line 1\u001b[0m\n\u001b[0;32m----> 1\u001b[0m view_complete_details \u001b[38;5;241m=\u001b[39m \u001b[43mdriver\u001b[49m\u001b[38;5;241;43m.\u001b[39;49m\u001b[43mfind_element\u001b[49m\u001b[43m(\u001b[49m\u001b[43mBy\u001b[49m\u001b[38;5;241;43m.\u001b[39;49m\u001b[43mXPATH\u001b[49m\u001b[43m \u001b[49m\u001b[43m,\u001b[49m\u001b[43m \u001b[49m\u001b[38;5;124;43m\"\u001b[39;49m\u001b[38;5;124;43m/html/body/form/div[3]/section[2]/div/div/div/div/div[2]/div[6]/div[3]/div\u001b[39;49m\u001b[38;5;124;43m\"\u001b[39;49m\u001b[43m)\u001b[49m\n\u001b[1;32m      2\u001b[0m view_complete_details\u001b[38;5;241m.\u001b[39mclick()\n",
      "File \u001b[0;32m~/Library/Python/3.9/lib/python/site-packages/selenium/webdriver/remote/webdriver.py:861\u001b[0m, in \u001b[0;36mWebDriver.find_element\u001b[0;34m(self, by, value)\u001b[0m\n\u001b[1;32m    858\u001b[0m     by \u001b[38;5;241m=\u001b[39m By\u001b[38;5;241m.\u001b[39mCSS_SELECTOR\n\u001b[1;32m    859\u001b[0m     value \u001b[38;5;241m=\u001b[39m \u001b[38;5;124m'\u001b[39m\u001b[38;5;124m[name=\u001b[39m\u001b[38;5;124m\"\u001b[39m\u001b[38;5;132;01m%s\u001b[39;00m\u001b[38;5;124m\"\u001b[39m\u001b[38;5;124m]\u001b[39m\u001b[38;5;124m'\u001b[39m \u001b[38;5;241m%\u001b[39m value\n\u001b[0;32m--> 861\u001b[0m \u001b[38;5;28;01mreturn\u001b[39;00m \u001b[38;5;28;43mself\u001b[39;49m\u001b[38;5;241;43m.\u001b[39;49m\u001b[43mexecute\u001b[49m\u001b[43m(\u001b[49m\u001b[43mCommand\u001b[49m\u001b[38;5;241;43m.\u001b[39;49m\u001b[43mFIND_ELEMENT\u001b[49m\u001b[43m,\u001b[49m\u001b[43m \u001b[49m\u001b[43m{\u001b[49m\u001b[38;5;124;43m\"\u001b[39;49m\u001b[38;5;124;43musing\u001b[39;49m\u001b[38;5;124;43m\"\u001b[39;49m\u001b[43m:\u001b[49m\u001b[43m \u001b[49m\u001b[43mby\u001b[49m\u001b[43m,\u001b[49m\u001b[43m \u001b[49m\u001b[38;5;124;43m\"\u001b[39;49m\u001b[38;5;124;43mvalue\u001b[39;49m\u001b[38;5;124;43m\"\u001b[39;49m\u001b[43m:\u001b[49m\u001b[43m \u001b[49m\u001b[43mvalue\u001b[49m\u001b[43m}\u001b[49m\u001b[43m)\u001b[49m[\u001b[38;5;124m\"\u001b[39m\u001b[38;5;124mvalue\u001b[39m\u001b[38;5;124m\"\u001b[39m]\n",
      "File \u001b[0;32m~/Library/Python/3.9/lib/python/site-packages/selenium/webdriver/remote/webdriver.py:444\u001b[0m, in \u001b[0;36mWebDriver.execute\u001b[0;34m(self, driver_command, params)\u001b[0m\n\u001b[1;32m    442\u001b[0m response \u001b[38;5;241m=\u001b[39m \u001b[38;5;28mself\u001b[39m\u001b[38;5;241m.\u001b[39mcommand_executor\u001b[38;5;241m.\u001b[39mexecute(driver_command, params)\n\u001b[1;32m    443\u001b[0m \u001b[38;5;28;01mif\u001b[39;00m response:\n\u001b[0;32m--> 444\u001b[0m     \u001b[38;5;28;43mself\u001b[39;49m\u001b[38;5;241;43m.\u001b[39;49m\u001b[43merror_handler\u001b[49m\u001b[38;5;241;43m.\u001b[39;49m\u001b[43mcheck_response\u001b[49m\u001b[43m(\u001b[49m\u001b[43mresponse\u001b[49m\u001b[43m)\u001b[49m\n\u001b[1;32m    445\u001b[0m     response[\u001b[38;5;124m\"\u001b[39m\u001b[38;5;124mvalue\u001b[39m\u001b[38;5;124m\"\u001b[39m] \u001b[38;5;241m=\u001b[39m \u001b[38;5;28mself\u001b[39m\u001b[38;5;241m.\u001b[39m_unwrap_value(response\u001b[38;5;241m.\u001b[39mget(\u001b[38;5;124m\"\u001b[39m\u001b[38;5;124mvalue\u001b[39m\u001b[38;5;124m\"\u001b[39m, \u001b[38;5;28;01mNone\u001b[39;00m))\n\u001b[1;32m    446\u001b[0m     \u001b[38;5;28;01mreturn\u001b[39;00m response\n",
      "File \u001b[0;32m~/Library/Python/3.9/lib/python/site-packages/selenium/webdriver/remote/errorhandler.py:249\u001b[0m, in \u001b[0;36mErrorHandler.check_response\u001b[0;34m(self, response)\u001b[0m\n\u001b[1;32m    247\u001b[0m         alert_text \u001b[38;5;241m=\u001b[39m value[\u001b[38;5;124m\"\u001b[39m\u001b[38;5;124malert\u001b[39m\u001b[38;5;124m\"\u001b[39m]\u001b[38;5;241m.\u001b[39mget(\u001b[38;5;124m\"\u001b[39m\u001b[38;5;124mtext\u001b[39m\u001b[38;5;124m\"\u001b[39m)\n\u001b[1;32m    248\u001b[0m     \u001b[38;5;28;01mraise\u001b[39;00m exception_class(message, screen, stacktrace, alert_text)  \u001b[38;5;66;03m# type: ignore[call-arg]  # mypy is not smart enough here\u001b[39;00m\n\u001b[0;32m--> 249\u001b[0m \u001b[38;5;28;01mraise\u001b[39;00m exception_class(message, screen, stacktrace)\n",
      "\u001b[0;31mNoSuchElementException\u001b[0m: Message: no such element: Unable to locate element: {\"method\":\"xpath\",\"selector\":\"/html/body/form/div[3]/section[2]/div/div/div/div/div[2]/div[6]/div[3]/div\"}\n  (Session info: chrome=108.0.5359.124)\nStacktrace:\n0   chromedriver                        0x0000000100513b7c chromedriver + 4209532\n1   chromedriver                        0x000000010049f418 chromedriver + 3732504\n2   chromedriver                        0x0000000100152368 chromedriver + 271208\n3   chromedriver                        0x000000010018dfc8 chromedriver + 516040\n4   chromedriver                        0x00000001001c5804 chromedriver + 743428\n5   chromedriver                        0x000000010018059c chromedriver + 460188\n6   chromedriver                        0x0000000100181644 chromedriver + 464452\n7   chromedriver                        0x00000001004e530c chromedriver + 4018956\n8   chromedriver                        0x00000001004e8fd8 chromedriver + 4034520\n9   chromedriver                        0x00000001004ef11c chromedriver + 4059420\n10  chromedriver                        0x00000001004e9bac chromedriver + 4037548\n11  chromedriver                        0x00000001004c3bb0 chromedriver + 3881904\n12  chromedriver                        0x0000000100506120 chromedriver + 4153632\n13  chromedriver                        0x0000000100506274 chromedriver + 4153972\n14  chromedriver                        0x000000010051a82c chromedriver + 4237356\n15  libsystem_pthread.dylib             0x000000018869c26c _pthread_start + 148\n16  libsystem_pthread.dylib             0x000000018869708c thread_start + 8\n"
     ]
    }
   ],
   "source": [
    "view_complete_details = driver.find_element(By.XPATH , \"/html/body/form/div[3]/section[2]/div/div/div/div/div[2]/div[6]/div[3]/div\")\n",
    "view_complete_details.click()"
   ]
  },
  {
   "cell_type": "code",
   "execution_count": null,
   "id": "d2384755",
   "metadata": {},
   "outputs": [],
   "source": []
  },
  {
   "cell_type": "code",
   "execution_count": null,
   "id": "6f878e00",
   "metadata": {},
   "outputs": [],
   "source": [
    "s_no = []\n",
    "reg_number = []\n",
    "project_name = []\n",
    "promoter_name = []\n",
    "district = []\n",
    "project_type = []\n",
    "approval_certificate = []\n",
    "project_completion_date = []\n",
    "\n"
   ]
  },
  {
   "cell_type": "code",
   "execution_count": null,
   "id": "7f5b0e17",
   "metadata": {},
   "outputs": [],
   "source": []
  },
  {
   "cell_type": "code",
   "execution_count": null,
   "id": "570b8b41",
   "metadata": {},
   "outputs": [],
   "source": []
  },
  {
   "cell_type": "code",
   "execution_count": null,
   "id": "5fe04c2c",
   "metadata": {},
   "outputs": [],
   "source": []
  },
  {
   "cell_type": "code",
   "execution_count": 47,
   "id": "e1116c29",
   "metadata": {},
   "outputs": [
    {
     "name": "stdout",
     "output_type": "stream",
     "text": [
      "Shanivaar Ka Vaar - Saturday Discussion Post - December 24, 2022\n"
     ]
    }
   ],
   "source": [
    "# topLinks = driver.find_elements_by_xpath(\"//div/p/a[contains(@class, 'title')]\")\n",
    "topLinks = driver.find_element(By.XPATH,\"/html/body/div[1]/div/div[2]/div[2]/div/div/div/div[2]/div[2]/div[1]/div[5]/div[1]/div/div/div[3]/div[3]/div[1]/a/div/h3\")\n",
    "print(topLinks.text)\n",
    "# for link in topLinks:\n",
    "#     print('Title: ', link.text)\n",
    "driver.quit()"
   ]
  },
  {
   "cell_type": "code",
   "execution_count": null,
   "id": "6a841fe5",
   "metadata": {},
   "outputs": [],
   "source": []
  },
  {
   "cell_type": "code",
   "execution_count": 34,
   "id": "8e749ae8",
   "metadata": {},
   "outputs": [
    {
     "name": "stderr",
     "output_type": "stream",
     "text": [
      "/var/folders/84/21vql02d7ps6z946hq6vg1kc0000gn/T/ipykernel_78572/975646542.py:4: DeprecationWarning: executable_path has been deprecated, please pass in a Service object\n",
      "  driver = webdriver.Chrome(executable_path=DRIVER_PATH)\n"
     ]
    }
   ],
   "source": [
    "\n",
    "## Selenium open mac command\n",
    "\n",
    "from selenium import webdriver\n",
    "\n",
    "DRIVER_PATH = '/opt/homebrew/bin/chromedriver'\n",
    "driver = webdriver.Chrome(executable_path=DRIVER_PATH)\n",
    "driver.get('https://google.com')\n",
    "\n",
    "\n",
    "#xattr -d com.apple.quarantine /opt/homebrew/bin/chromedriver\n",
    "# used to unblock chromedriver\n"
   ]
  },
  {
   "cell_type": "code",
   "execution_count": null,
   "id": "eabe0914",
   "metadata": {},
   "outputs": [],
   "source": [
    "\n",
    "\n",
    "\n"
   ]
  },
  {
   "cell_type": "markdown",
   "id": "4e923e3a",
   "metadata": {},
   "source": [
    "## Captcha reader check"
   ]
  },
  {
   "cell_type": "code",
   "execution_count": null,
   "id": "668b7636",
   "metadata": {},
   "outputs": [],
   "source": []
  },
  {
   "cell_type": "code",
   "execution_count": 98,
   "id": "4147c1c8",
   "metadata": {},
   "outputs": [
    {
     "name": "stdout",
     "output_type": "stream",
     "text": [
      "EGXVK\n",
      "\n"
     ]
    }
   ],
   "source": [
    "import cv2\n",
    "from pytesseract import image_to_string\n",
    "\n",
    "img = cv2.imread(\"/Users/nameerkhan/Desktop/Captcha/CaptchaImage.png\")\n",
    "gry = cv2.cvtColor(img, cv2.COLOR_BGR2GRAY)\n",
    "(h, w) = gry.shape[:2]\n",
    "gry = cv2.resize(gry, (w*2, h*2))\n",
    "cls = cv2.morphologyEx(gry, cv2.MORPH_CLOSE, None)\n",
    "thr = cv2.threshold(cls, 0, 255, cv2.THRESH_BINARY | cv2.THRESH_OTSU)[1]\n",
    "txt = image_to_string(thr)\n",
    "print(txt)"
   ]
  },
  {
   "cell_type": "code",
   "execution_count": null,
   "id": "2744898d",
   "metadata": {},
   "outputs": [],
   "source": []
  },
  {
   "cell_type": "code",
   "execution_count": null,
   "id": "847e95dc",
   "metadata": {},
   "outputs": [],
   "source": []
  },
  {
   "cell_type": "code",
   "execution_count": null,
   "id": "29edd9c7",
   "metadata": {},
   "outputs": [],
   "source": []
  }
 ],
 "metadata": {
  "kernelspec": {
   "display_name": "Python 3 (ipykernel)",
   "language": "python",
   "name": "python3"
  },
  "language_info": {
   "codemirror_mode": {
    "name": "ipython",
    "version": 3
   },
   "file_extension": ".py",
   "mimetype": "text/x-python",
   "name": "python",
   "nbconvert_exporter": "python",
   "pygments_lexer": "ipython3",
   "version": "3.11.3"
  }
 },
 "nbformat": 4,
 "nbformat_minor": 5
}
